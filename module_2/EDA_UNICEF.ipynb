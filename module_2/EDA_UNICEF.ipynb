{
 "cells": [
  {
   "cell_type": "code",
   "execution_count": 129,
   "metadata": {},
   "outputs": [],
   "source": [
    "import pandas as pd\n",
    "import matplotlib.pyplot as plt\n",
    "import seaborn as sns\n",
    "from itertools import combinations\n",
    "from scipy.stats import ttest_ind\n",
    "import random\n",
    "\n",
    "pd.set_option('display.max_rows', 50)\n",
    "pd.set_option('display.max_columns', 50)\n",
    "stud = pd.read_csv(\"stud_math.csv\")"
   ]
  },
  {
   "cell_type": "markdown",
   "metadata": {},
   "source": [
    "Предобработка:"
   ]
  },
  {
   "cell_type": "code",
   "execution_count": 130,
   "metadata": {},
   "outputs": [],
   "source": [
    "# Заполнение пропусков\n",
    "def nan_fill(col, val):\n",
    "    stud[col].apply(lambda x: val if pd.isnull(x) else x)\n",
    "\n",
    "    \n",
    "# Анализ выбранного атрибута    \n",
    "def col_info(df, col):\n",
    "    if df[col].dtypes == 'object':\n",
    "        all_indexes = list(df[col].value_counts().index)\n",
    "        print(df[col].value_counts())\n",
    "        print('Уникальных значений:', df[col].nunique())\n",
    "        print('Пропущеных значений в столбце:',\n",
    "              df[col].isnull().sum(axis=0))\n",
    "        sns.countplot(df[col])\n",
    "    else:\n",
    "        fig, ax = plt.subplots()\n",
    "        df[col].hist(ax=ax)\n",
    "        df[col].describe()\n",
    "        ax.set_xlabel(col)\n",
    "        plt.show\n",
    "        print('Мода: ', df[col].mode())\n",
    "        print('Медиана: ', df[col].median())\n",
    "        print('Среднее', df[col].mean())\n",
    "        print('Пропущеных значений в столбце:',\n",
    "              df[col].isnull().sum(axis=0))\n",
    "\n",
    "# Анализ номинативных переменных\n",
    "def get_boxplot(column):\n",
    "    fig, ax = plt.subplots(figsize = (14, 4))\n",
    "    sns.boxplot(x=column, y='score', \n",
    "                data=stud.loc[stud.loc[:, column].isin(stud.loc[:, column].value_counts().index[:10])],\n",
    "               ax=ax)\n",
    "    plt.xticks(rotation=0)\n",
    "    ax.set_title('Boxplot for ' + column)\n",
    "    plt.show()\n",
    "    \n",
    "    \n",
    "# Тест Стьюдента   \n",
    "def get_stat_dif(column):\n",
    "    cols = stud.loc[:, column].value_counts().index[:10]\n",
    "    combinations_all = list(combinations(cols, 2))\n",
    "    for comb in combinations_all:\n",
    "        if ttest_ind(stud.loc[stud.loc[:, column] == comb[0], 'score'], \n",
    "                        stud.loc[stud.loc[:, column] == comb[1], 'score']).pvalue \\\n",
    "            <= 0.05/len(combinations_all): # Учли поправку Бонферони\n",
    "            print('Найдены статистически значимые различия для колонки', column)\n",
    "            break"
   ]
  },
  {
   "cell_type": "markdown",
   "metadata": {},
   "source": [
    "# Первичный анализ данных:"
   ]
  },
  {
   "cell_type": "code",
   "execution_count": 131,
   "metadata": {},
   "outputs": [
    {
     "data": {
      "text/html": [
       "<div>\n",
       "<style scoped>\n",
       "    .dataframe tbody tr th:only-of-type {\n",
       "        vertical-align: middle;\n",
       "    }\n",
       "\n",
       "    .dataframe tbody tr th {\n",
       "        vertical-align: top;\n",
       "    }\n",
       "\n",
       "    .dataframe thead th {\n",
       "        text-align: right;\n",
       "    }\n",
       "</style>\n",
       "<table border=\"1\" class=\"dataframe\">\n",
       "  <thead>\n",
       "    <tr style=\"text-align: right;\">\n",
       "      <th></th>\n",
       "      <th>school</th>\n",
       "      <th>sex</th>\n",
       "      <th>age</th>\n",
       "      <th>address</th>\n",
       "      <th>famsize</th>\n",
       "      <th>Pstatus</th>\n",
       "      <th>Medu</th>\n",
       "      <th>Fedu</th>\n",
       "      <th>Mjob</th>\n",
       "      <th>Fjob</th>\n",
       "      <th>reason</th>\n",
       "      <th>guardian</th>\n",
       "      <th>traveltime</th>\n",
       "      <th>studytime</th>\n",
       "      <th>failures</th>\n",
       "      <th>schoolsup</th>\n",
       "      <th>famsup</th>\n",
       "      <th>paid</th>\n",
       "      <th>activities</th>\n",
       "      <th>nursery</th>\n",
       "      <th>studytime, granular</th>\n",
       "      <th>higher</th>\n",
       "      <th>internet</th>\n",
       "      <th>romantic</th>\n",
       "      <th>famrel</th>\n",
       "      <th>freetime</th>\n",
       "      <th>goout</th>\n",
       "      <th>health</th>\n",
       "      <th>absences</th>\n",
       "      <th>score</th>\n",
       "    </tr>\n",
       "  </thead>\n",
       "  <tbody>\n",
       "    <tr>\n",
       "      <th>0</th>\n",
       "      <td>GP</td>\n",
       "      <td>F</td>\n",
       "      <td>18</td>\n",
       "      <td>U</td>\n",
       "      <td>NaN</td>\n",
       "      <td>A</td>\n",
       "      <td>4.0</td>\n",
       "      <td>4.0</td>\n",
       "      <td>at_home</td>\n",
       "      <td>teacher</td>\n",
       "      <td>course</td>\n",
       "      <td>mother</td>\n",
       "      <td>2.0</td>\n",
       "      <td>2.0</td>\n",
       "      <td>0.0</td>\n",
       "      <td>yes</td>\n",
       "      <td>no</td>\n",
       "      <td>no</td>\n",
       "      <td>no</td>\n",
       "      <td>yes</td>\n",
       "      <td>-6.0</td>\n",
       "      <td>yes</td>\n",
       "      <td>NaN</td>\n",
       "      <td>no</td>\n",
       "      <td>4.0</td>\n",
       "      <td>3.0</td>\n",
       "      <td>4.0</td>\n",
       "      <td>3.0</td>\n",
       "      <td>6.0</td>\n",
       "      <td>30.0</td>\n",
       "    </tr>\n",
       "    <tr>\n",
       "      <th>1</th>\n",
       "      <td>GP</td>\n",
       "      <td>F</td>\n",
       "      <td>17</td>\n",
       "      <td>U</td>\n",
       "      <td>GT3</td>\n",
       "      <td>NaN</td>\n",
       "      <td>1.0</td>\n",
       "      <td>1.0</td>\n",
       "      <td>at_home</td>\n",
       "      <td>other</td>\n",
       "      <td>course</td>\n",
       "      <td>father</td>\n",
       "      <td>1.0</td>\n",
       "      <td>2.0</td>\n",
       "      <td>0.0</td>\n",
       "      <td>no</td>\n",
       "      <td>yes</td>\n",
       "      <td>no</td>\n",
       "      <td>no</td>\n",
       "      <td>no</td>\n",
       "      <td>-6.0</td>\n",
       "      <td>yes</td>\n",
       "      <td>yes</td>\n",
       "      <td>no</td>\n",
       "      <td>5.0</td>\n",
       "      <td>3.0</td>\n",
       "      <td>3.0</td>\n",
       "      <td>3.0</td>\n",
       "      <td>4.0</td>\n",
       "      <td>30.0</td>\n",
       "    </tr>\n",
       "    <tr>\n",
       "      <th>2</th>\n",
       "      <td>GP</td>\n",
       "      <td>F</td>\n",
       "      <td>15</td>\n",
       "      <td>U</td>\n",
       "      <td>LE3</td>\n",
       "      <td>T</td>\n",
       "      <td>1.0</td>\n",
       "      <td>1.0</td>\n",
       "      <td>at_home</td>\n",
       "      <td>other</td>\n",
       "      <td>other</td>\n",
       "      <td>mother</td>\n",
       "      <td>1.0</td>\n",
       "      <td>2.0</td>\n",
       "      <td>3.0</td>\n",
       "      <td>yes</td>\n",
       "      <td>no</td>\n",
       "      <td>NaN</td>\n",
       "      <td>no</td>\n",
       "      <td>yes</td>\n",
       "      <td>-6.0</td>\n",
       "      <td>yes</td>\n",
       "      <td>yes</td>\n",
       "      <td>NaN</td>\n",
       "      <td>4.0</td>\n",
       "      <td>3.0</td>\n",
       "      <td>2.0</td>\n",
       "      <td>3.0</td>\n",
       "      <td>10.0</td>\n",
       "      <td>50.0</td>\n",
       "    </tr>\n",
       "    <tr>\n",
       "      <th>3</th>\n",
       "      <td>GP</td>\n",
       "      <td>F</td>\n",
       "      <td>15</td>\n",
       "      <td>U</td>\n",
       "      <td>GT3</td>\n",
       "      <td>T</td>\n",
       "      <td>4.0</td>\n",
       "      <td>2.0</td>\n",
       "      <td>health</td>\n",
       "      <td>NaN</td>\n",
       "      <td>home</td>\n",
       "      <td>mother</td>\n",
       "      <td>1.0</td>\n",
       "      <td>3.0</td>\n",
       "      <td>0.0</td>\n",
       "      <td>no</td>\n",
       "      <td>yes</td>\n",
       "      <td>yes</td>\n",
       "      <td>yes</td>\n",
       "      <td>yes</td>\n",
       "      <td>-9.0</td>\n",
       "      <td>yes</td>\n",
       "      <td>yes</td>\n",
       "      <td>yes</td>\n",
       "      <td>3.0</td>\n",
       "      <td>2.0</td>\n",
       "      <td>2.0</td>\n",
       "      <td>5.0</td>\n",
       "      <td>2.0</td>\n",
       "      <td>75.0</td>\n",
       "    </tr>\n",
       "    <tr>\n",
       "      <th>4</th>\n",
       "      <td>GP</td>\n",
       "      <td>F</td>\n",
       "      <td>16</td>\n",
       "      <td>U</td>\n",
       "      <td>GT3</td>\n",
       "      <td>T</td>\n",
       "      <td>3.0</td>\n",
       "      <td>3.0</td>\n",
       "      <td>other</td>\n",
       "      <td>other</td>\n",
       "      <td>home</td>\n",
       "      <td>father</td>\n",
       "      <td>1.0</td>\n",
       "      <td>2.0</td>\n",
       "      <td>0.0</td>\n",
       "      <td>no</td>\n",
       "      <td>yes</td>\n",
       "      <td>yes</td>\n",
       "      <td>no</td>\n",
       "      <td>yes</td>\n",
       "      <td>-6.0</td>\n",
       "      <td>yes</td>\n",
       "      <td>no</td>\n",
       "      <td>no</td>\n",
       "      <td>4.0</td>\n",
       "      <td>3.0</td>\n",
       "      <td>2.0</td>\n",
       "      <td>5.0</td>\n",
       "      <td>4.0</td>\n",
       "      <td>50.0</td>\n",
       "    </tr>\n",
       "    <tr>\n",
       "      <th>5</th>\n",
       "      <td>GP</td>\n",
       "      <td>M</td>\n",
       "      <td>16</td>\n",
       "      <td>U</td>\n",
       "      <td>LE3</td>\n",
       "      <td>T</td>\n",
       "      <td>4.0</td>\n",
       "      <td>3.0</td>\n",
       "      <td>services</td>\n",
       "      <td>other</td>\n",
       "      <td>reputation</td>\n",
       "      <td>mother</td>\n",
       "      <td>1.0</td>\n",
       "      <td>2.0</td>\n",
       "      <td>0.0</td>\n",
       "      <td>no</td>\n",
       "      <td>yes</td>\n",
       "      <td>yes</td>\n",
       "      <td>yes</td>\n",
       "      <td>yes</td>\n",
       "      <td>-6.0</td>\n",
       "      <td>yes</td>\n",
       "      <td>yes</td>\n",
       "      <td>no</td>\n",
       "      <td>5.0</td>\n",
       "      <td>4.0</td>\n",
       "      <td>2.0</td>\n",
       "      <td>5.0</td>\n",
       "      <td>10.0</td>\n",
       "      <td>75.0</td>\n",
       "    </tr>\n",
       "    <tr>\n",
       "      <th>6</th>\n",
       "      <td>GP</td>\n",
       "      <td>M</td>\n",
       "      <td>16</td>\n",
       "      <td>NaN</td>\n",
       "      <td>LE3</td>\n",
       "      <td>T</td>\n",
       "      <td>2.0</td>\n",
       "      <td>2.0</td>\n",
       "      <td>other</td>\n",
       "      <td>other</td>\n",
       "      <td>home</td>\n",
       "      <td>mother</td>\n",
       "      <td>1.0</td>\n",
       "      <td>2.0</td>\n",
       "      <td>0.0</td>\n",
       "      <td>no</td>\n",
       "      <td>no</td>\n",
       "      <td>no</td>\n",
       "      <td>no</td>\n",
       "      <td>yes</td>\n",
       "      <td>-6.0</td>\n",
       "      <td>yes</td>\n",
       "      <td>yes</td>\n",
       "      <td>no</td>\n",
       "      <td>4.0</td>\n",
       "      <td>4.0</td>\n",
       "      <td>4.0</td>\n",
       "      <td>3.0</td>\n",
       "      <td>0.0</td>\n",
       "      <td>55.0</td>\n",
       "    </tr>\n",
       "    <tr>\n",
       "      <th>7</th>\n",
       "      <td>GP</td>\n",
       "      <td>F</td>\n",
       "      <td>17</td>\n",
       "      <td>U</td>\n",
       "      <td>GT3</td>\n",
       "      <td>A</td>\n",
       "      <td>4.0</td>\n",
       "      <td>4.0</td>\n",
       "      <td>other</td>\n",
       "      <td>teacher</td>\n",
       "      <td>home</td>\n",
       "      <td>mother</td>\n",
       "      <td>2.0</td>\n",
       "      <td>2.0</td>\n",
       "      <td>0.0</td>\n",
       "      <td>yes</td>\n",
       "      <td>yes</td>\n",
       "      <td>no</td>\n",
       "      <td>no</td>\n",
       "      <td>yes</td>\n",
       "      <td>-6.0</td>\n",
       "      <td>yes</td>\n",
       "      <td>no</td>\n",
       "      <td>no</td>\n",
       "      <td>4.0</td>\n",
       "      <td>1.0</td>\n",
       "      <td>4.0</td>\n",
       "      <td>1.0</td>\n",
       "      <td>6.0</td>\n",
       "      <td>30.0</td>\n",
       "    </tr>\n",
       "    <tr>\n",
       "      <th>8</th>\n",
       "      <td>GP</td>\n",
       "      <td>M</td>\n",
       "      <td>15</td>\n",
       "      <td>U</td>\n",
       "      <td>LE3</td>\n",
       "      <td>A</td>\n",
       "      <td>3.0</td>\n",
       "      <td>2.0</td>\n",
       "      <td>services</td>\n",
       "      <td>other</td>\n",
       "      <td>home</td>\n",
       "      <td>mother</td>\n",
       "      <td>1.0</td>\n",
       "      <td>2.0</td>\n",
       "      <td>0.0</td>\n",
       "      <td>no</td>\n",
       "      <td>yes</td>\n",
       "      <td>yes</td>\n",
       "      <td>no</td>\n",
       "      <td>yes</td>\n",
       "      <td>-6.0</td>\n",
       "      <td>yes</td>\n",
       "      <td>yes</td>\n",
       "      <td>no</td>\n",
       "      <td>NaN</td>\n",
       "      <td>2.0</td>\n",
       "      <td>2.0</td>\n",
       "      <td>1.0</td>\n",
       "      <td>0.0</td>\n",
       "      <td>95.0</td>\n",
       "    </tr>\n",
       "    <tr>\n",
       "      <th>9</th>\n",
       "      <td>GP</td>\n",
       "      <td>M</td>\n",
       "      <td>15</td>\n",
       "      <td>U</td>\n",
       "      <td>NaN</td>\n",
       "      <td>NaN</td>\n",
       "      <td>3.0</td>\n",
       "      <td>4.0</td>\n",
       "      <td>other</td>\n",
       "      <td>other</td>\n",
       "      <td>home</td>\n",
       "      <td>mother</td>\n",
       "      <td>1.0</td>\n",
       "      <td>2.0</td>\n",
       "      <td>0.0</td>\n",
       "      <td>no</td>\n",
       "      <td>yes</td>\n",
       "      <td>yes</td>\n",
       "      <td>yes</td>\n",
       "      <td>yes</td>\n",
       "      <td>-6.0</td>\n",
       "      <td>yes</td>\n",
       "      <td>yes</td>\n",
       "      <td>no</td>\n",
       "      <td>5.0</td>\n",
       "      <td>5.0</td>\n",
       "      <td>1.0</td>\n",
       "      <td>5.0</td>\n",
       "      <td>0.0</td>\n",
       "      <td>75.0</td>\n",
       "    </tr>\n",
       "  </tbody>\n",
       "</table>\n",
       "</div>"
      ],
      "text/plain": [
       "  school sex  age address famsize Pstatus  Medu  Fedu      Mjob     Fjob  \\\n",
       "0     GP   F   18       U     NaN       A   4.0   4.0   at_home  teacher   \n",
       "1     GP   F   17       U     GT3     NaN   1.0   1.0   at_home    other   \n",
       "2     GP   F   15       U     LE3       T   1.0   1.0   at_home    other   \n",
       "3     GP   F   15       U     GT3       T   4.0   2.0    health      NaN   \n",
       "4     GP   F   16       U     GT3       T   3.0   3.0     other    other   \n",
       "5     GP   M   16       U     LE3       T   4.0   3.0  services    other   \n",
       "6     GP   M   16     NaN     LE3       T   2.0   2.0     other    other   \n",
       "7     GP   F   17       U     GT3       A   4.0   4.0     other  teacher   \n",
       "8     GP   M   15       U     LE3       A   3.0   2.0  services    other   \n",
       "9     GP   M   15       U     NaN     NaN   3.0   4.0     other    other   \n",
       "\n",
       "       reason guardian  traveltime  studytime  failures schoolsup famsup paid  \\\n",
       "0      course   mother         2.0        2.0       0.0       yes     no   no   \n",
       "1      course   father         1.0        2.0       0.0        no    yes   no   \n",
       "2       other   mother         1.0        2.0       3.0       yes     no  NaN   \n",
       "3        home   mother         1.0        3.0       0.0        no    yes  yes   \n",
       "4        home   father         1.0        2.0       0.0        no    yes  yes   \n",
       "5  reputation   mother         1.0        2.0       0.0        no    yes  yes   \n",
       "6        home   mother         1.0        2.0       0.0        no     no   no   \n",
       "7        home   mother         2.0        2.0       0.0       yes    yes   no   \n",
       "8        home   mother         1.0        2.0       0.0        no    yes  yes   \n",
       "9        home   mother         1.0        2.0       0.0        no    yes  yes   \n",
       "\n",
       "  activities nursery  studytime, granular higher internet romantic  famrel  \\\n",
       "0         no     yes                 -6.0    yes      NaN       no     4.0   \n",
       "1         no      no                 -6.0    yes      yes       no     5.0   \n",
       "2         no     yes                 -6.0    yes      yes      NaN     4.0   \n",
       "3        yes     yes                 -9.0    yes      yes      yes     3.0   \n",
       "4         no     yes                 -6.0    yes       no       no     4.0   \n",
       "5        yes     yes                 -6.0    yes      yes       no     5.0   \n",
       "6         no     yes                 -6.0    yes      yes       no     4.0   \n",
       "7         no     yes                 -6.0    yes       no       no     4.0   \n",
       "8         no     yes                 -6.0    yes      yes       no     NaN   \n",
       "9        yes     yes                 -6.0    yes      yes       no     5.0   \n",
       "\n",
       "   freetime  goout  health  absences  score  \n",
       "0       3.0    4.0     3.0       6.0   30.0  \n",
       "1       3.0    3.0     3.0       4.0   30.0  \n",
       "2       3.0    2.0     3.0      10.0   50.0  \n",
       "3       2.0    2.0     5.0       2.0   75.0  \n",
       "4       3.0    2.0     5.0       4.0   50.0  \n",
       "5       4.0    2.0     5.0      10.0   75.0  \n",
       "6       4.0    4.0     3.0       0.0   55.0  \n",
       "7       1.0    4.0     1.0       6.0   30.0  \n",
       "8       2.0    2.0     1.0       0.0   95.0  \n",
       "9       5.0    1.0     5.0       0.0   75.0  "
      ]
     },
     "metadata": {},
     "output_type": "display_data"
    },
    {
     "name": "stdout",
     "output_type": "stream",
     "text": [
      "<class 'pandas.core.frame.DataFrame'>\n",
      "RangeIndex: 395 entries, 0 to 394\n",
      "Data columns (total 30 columns):\n",
      " #   Column               Non-Null Count  Dtype  \n",
      "---  ------               --------------  -----  \n",
      " 0   school               395 non-null    object \n",
      " 1   sex                  395 non-null    object \n",
      " 2   age                  395 non-null    int64  \n",
      " 3   address              378 non-null    object \n",
      " 4   famsize              368 non-null    object \n",
      " 5   Pstatus              350 non-null    object \n",
      " 6   Medu                 392 non-null    float64\n",
      " 7   Fedu                 371 non-null    float64\n",
      " 8   Mjob                 376 non-null    object \n",
      " 9   Fjob                 359 non-null    object \n",
      " 10  reason               378 non-null    object \n",
      " 11  guardian             364 non-null    object \n",
      " 12  traveltime           367 non-null    float64\n",
      " 13  studytime            388 non-null    float64\n",
      " 14  failures             373 non-null    float64\n",
      " 15  schoolsup            386 non-null    object \n",
      " 16  famsup               356 non-null    object \n",
      " 17  paid                 355 non-null    object \n",
      " 18  activities           381 non-null    object \n",
      " 19  nursery              379 non-null    object \n",
      " 20  studytime, granular  388 non-null    float64\n",
      " 21  higher               375 non-null    object \n",
      " 22  internet             361 non-null    object \n",
      " 23  romantic             364 non-null    object \n",
      " 24  famrel               368 non-null    float64\n",
      " 25  freetime             384 non-null    float64\n",
      " 26  goout                387 non-null    float64\n",
      " 27  health               380 non-null    float64\n",
      " 28  absences             383 non-null    float64\n",
      " 29  score                389 non-null    float64\n",
      "dtypes: float64(12), int64(1), object(17)\n",
      "memory usage: 92.7+ KB\n"
     ]
    }
   ],
   "source": [
    "display(stud.head(10))\n",
    "stud.info()"
   ]
  },
  {
   "cell_type": "markdown",
   "metadata": {},
   "source": [
    "В выборке представлено 395 учеников"
   ]
  },
  {
   "cell_type": "markdown",
   "metadata": {},
   "source": [
    "### 1. Рассмотрим атрибут school:"
   ]
  },
  {
   "cell_type": "code",
   "execution_count": 132,
   "metadata": {},
   "outputs": [
    {
     "name": "stdout",
     "output_type": "stream",
     "text": [
      "GP    349\n",
      "MS     46\n",
      "Name: school, dtype: int64\n",
      "Уникальных значений: 2\n",
      "Пропущеных значений в столбце: 0\n"
     ]
    },
    {
     "data": {
      "image/png": "[encoded data removed]",
      "text/plain": [
       "<Figure size 432x288 with 1 Axes>"
      ]
     },
     "metadata": {
      "needs_background": "light"
     },
     "output_type": "display_data"
    }
   ],
   "source": [
    "col_info(stud,'school')"
   ]
  },
  {
   "cell_type": "markdown",
   "metadata": {},
   "source": [
    "Большая часть школьников учится в школе GP"
   ]
  },
  {
   "cell_type": "markdown",
   "metadata": {},
   "source": [
    "### 2. Рассмотрим атрибут sex:"
   ]
  },
  {
   "cell_type": "code",
   "execution_count": 133,
   "metadata": {},
   "outputs": [
    {
     "name": "stdout",
     "output_type": "stream",
     "text": [
      "F    208\n",
      "M    187\n",
      "Name: sex, dtype: int64\n",
      "Уникальных значений: 2\n",
      "Пропущеных значений в столбце: 0\n"
     ]
    },
    {
     "data": {
      "image/png": "[encoded data removed]",
      "text/plain": [
       "<Figure size 432x288 with 1 Axes>"
      ]
     },
     "metadata": {
      "needs_background": "light"
     },
     "output_type": "display_data"
    }
   ],
   "source": [
    "col_info(stud,'sex')"
   ]
  },
  {
   "cell_type": "markdown",
   "metadata": {},
   "source": [
    "Выборка содержит, примерно, поровну мальчиков и девочек"
   ]
  },
  {
   "cell_type": "markdown",
   "metadata": {},
   "source": [
    "### 3. Рассмотрим атрибут age:"
   ]
  },
  {
   "cell_type": "code",
   "execution_count": 134,
   "metadata": {},
   "outputs": [
    {
     "name": "stdout",
     "output_type": "stream",
     "text": [
      "Мода:  0    16\n",
      "dtype: int64\n",
      "Медиана:  17.0\n",
      "Среднее 16.696202531645568\n",
      "Пропущеных значений в столбце: 0\n"
     ]
    },
    {
     "data": {
      "image/png": "[encoded data removed]",
      "text/plain": [
       "<Figure size 432x288 with 1 Axes>"
      ]
     },
     "metadata": {
      "needs_background": "light"
     },
     "output_type": "display_data"
    }
   ],
   "source": [
    "col_info(stud,'age')"
   ]
  },
  {
   "cell_type": "markdown",
   "metadata": {},
   "source": [
    "Школьники, чей возраст > 19 - потенциальные выбросы"
   ]
  },
  {
   "cell_type": "code",
   "execution_count": 135,
   "metadata": {},
   "outputs": [
    {
     "name": "stdout",
     "output_type": "stream",
     "text": [
      "25-й перцентиль: 16.0, 75-й перцентиль: 18.0, IQR: 2.0,  Границы выбросов: [13.0, 21.0].\n"
     ]
    },
    {
     "data": {
      "text/plain": [
       "<matplotlib.legend.Legend at 0x2340ce8b100>"
      ]
     },
     "execution_count": 135,
     "metadata": {},
     "output_type": "execute_result"
    },
    {
     "data": {
      "image/png": "[encoded data removed]",
      "text/plain": [
       "<Figure size 432x288 with 1 Axes>"
      ]
     },
     "metadata": {
      "needs_background": "light"
     },
     "output_type": "display_data"
    }
   ],
   "source": [
    "perc25 = stud.age.quantile(0.25)\n",
    "perc75 = stud.age.quantile(0.75)\n",
    "IQR = perc75 - perc25\n",
    "print('25-й перцентиль: {},'.format(perc25), '75-й перцентиль: {},'.format(perc75)\n",
    "      , \"IQR: {}, \".format(IQR),\"Границы выбросов: [{f}, {l}].\".format(f=perc25 - 1.5*IQR, l=perc75 + 1.5*IQR))\n",
    "stud.age.loc[stud.age.between(perc25 - 1.5*IQR, perc75 + 1.5*IQR)].hist(bins = 16,\n",
    "                                                                        range = (1, 30), \n",
    "                                                                        label = 'IQR')\n",
    "stud.age.loc[stud.age <= 19].hist(alpha = 0.5, bins = 16, range = (1, 30), label = 'Выбросы')\n",
    "plt.legend()"
   ]
  },
  {
   "cell_type": "markdown",
   "metadata": {},
   "source": [
    "Представленный график отображает выборку, попавшую в межквартильный размах, а так же выбросы"
   ]
  },
  {
   "cell_type": "markdown",
   "metadata": {},
   "source": [
    "### 4. Рассмотрим атрибут address:"
   ]
  },
  {
   "cell_type": "code",
   "execution_count": 136,
   "metadata": {},
   "outputs": [
    {
     "name": "stdout",
     "output_type": "stream",
     "text": [
      "U    295\n",
      "R     83\n",
      "Name: address, dtype: int64\n",
      "Уникальных значений: 2\n",
      "Пропущеных значений в столбце: 17\n"
     ]
    },
    {
     "data": {
      "image/png": "[encoded data removed]",
      "text/plain": [
       "<Figure size 432x288 with 1 Axes>"
      ]
     },
     "metadata": {
      "needs_background": "light"
     },
     "output_type": "display_data"
    }
   ],
   "source": [
    "col_info(stud,'address')"
   ]
  },
  {
   "cell_type": "markdown",
   "metadata": {},
   "source": [
    "Большая часть школьников живет в черте города. NaN можно заполнить модой."
   ]
  },
  {
   "cell_type": "code",
   "execution_count": 137,
   "metadata": {},
   "outputs": [
    {
     "name": "stdout",
     "output_type": "stream",
     "text": [
      "U    312\n",
      "R     83\n",
      "Name: address, dtype: int64\n",
      "Уникальных значений: 2\n",
      "Пропущеных значений в столбце: 0\n"
     ]
    },
    {
     "data": {
      "image/png": "[encoded data removed]",
      "text/plain": [
       "<Figure size 432x288 with 1 Axes>"
      ]
     },
     "metadata": {
      "needs_background": "light"
     },
     "output_type": "display_data"
    }
   ],
   "source": [
    "stud.address = stud.address.apply(lambda x: 'U' if pd.isnull(x) else x)\n",
    "col_info(stud,'address')"
   ]
  },
  {
   "cell_type": "markdown",
   "metadata": {},
   "source": [
    "Теперь в выборке отсутствуют пробелы"
   ]
  },
  {
   "cell_type": "markdown",
   "metadata": {},
   "source": [
    "### 5. Рассмотрим атрибут Pstatus:"
   ]
  },
  {
   "cell_type": "code",
   "execution_count": 138,
   "metadata": {},
   "outputs": [
    {
     "name": "stdout",
     "output_type": "stream",
     "text": [
      "T    314\n",
      "A     36\n",
      "Name: Pstatus, dtype: int64\n",
      "Уникальных значений: 2\n",
      "Пропущеных значений в столбце: 45\n"
     ]
    },
    {
     "data": {
      "image/png": "[encoded data removed]",
      "text/plain": [
       "<Figure size 432x288 with 1 Axes>"
      ]
     },
     "metadata": {
      "needs_background": "light"
     },
     "output_type": "display_data"
    }
   ],
   "source": [
    "col_info(stud,'Pstatus')"
   ]
  },
  {
   "cell_type": "markdown",
   "metadata": {},
   "source": [
    "В выборке значительная часть учеников имеет статус совместного жилья родителей = живут вместе. Пробелы так же могут быть заполнены этим значением."
   ]
  },
  {
   "cell_type": "code",
   "execution_count": 139,
   "metadata": {},
   "outputs": [
    {
     "name": "stdout",
     "output_type": "stream",
     "text": [
      "T    359\n",
      "A     36\n",
      "Name: Pstatus, dtype: int64\n",
      "Уникальных значений: 2\n",
      "Пропущеных значений в столбце: 0\n"
     ]
    },
    {
     "data": {
      "image/png": "[encoded data removed]",
      "text/plain": [
       "<Figure size 432x288 with 1 Axes>"
      ]
     },
     "metadata": {
      "needs_background": "light"
     },
     "output_type": "display_data"
    }
   ],
   "source": [
    "stud.Pstatus = stud.Pstatus.apply(lambda x: 'T' if pd.isnull(x) else x)\n",
    "col_info(stud, 'Pstatus')"
   ]
  },
  {
   "cell_type": "markdown",
   "metadata": {},
   "source": [
    "Теперь в выборке отсутствуют пробелы"
   ]
  },
  {
   "cell_type": "markdown",
   "metadata": {},
   "source": [
    "### 6. Рассмотрим атрибут famsize:"
   ]
  },
  {
   "cell_type": "code",
   "execution_count": 140,
   "metadata": {},
   "outputs": [
    {
     "name": "stdout",
     "output_type": "stream",
     "text": [
      "GT3    261\n",
      "LE3    107\n",
      "Name: famsize, dtype: int64\n",
      "Уникальных значений: 2\n",
      "Пропущеных значений в столбце: 27\n"
     ]
    },
    {
     "data": {
      "image/png": "[encoded data removed]",
      "text/plain": [
       "<Figure size 432x288 with 1 Axes>"
      ]
     },
     "metadata": {
      "needs_background": "light"
     },
     "output_type": "display_data"
    }
   ],
   "source": [
    "col_info(stud,'famsize')"
   ]
  },
  {
   "cell_type": "markdown",
   "metadata": {},
   "source": [
    "Для заполнения пробелов, отсортируем записи с NaN и посмотрим у них признак Pstatus"
   ]
  },
  {
   "cell_type": "code",
   "execution_count": 141,
   "metadata": {},
   "outputs": [
    {
     "name": "stdout",
     "output_type": "stream",
     "text": [
      "T    24\n",
      "A     3\n",
      "Name: Pstatus, dtype: int64\n",
      "Уникальных значений: 2\n",
      "Пропущеных значений в столбце: 0\n"
     ]
    },
    {
     "data": {
      "image/png": "[encoded data removed]",
      "text/plain": [
       "<Figure size 432x288 with 1 Axes>"
      ]
     },
     "metadata": {
      "needs_background": "light"
     },
     "output_type": "display_data"
    }
   ],
   "source": [
    "col_info(stud[pd.isnull(stud.famsize)], 'Pstatus')"
   ]
  },
  {
   "cell_type": "markdown",
   "metadata": {},
   "source": [
    "Для всех пустых записей, где Pstatus == Т атрибут famsize = GT3, иначе famsize = LE3"
   ]
  },
  {
   "cell_type": "code",
   "execution_count": 142,
   "metadata": {},
   "outputs": [],
   "source": [
    "stud.loc[(stud['famsize'].isnull())&(stud['Pstatus']=='T'), 'famsize'] = 'GT3'\n",
    "stud.loc[(stud['famsize'].isnull())&(stud['Pstatus']=='A'), 'famsize'] = 'LE3'"
   ]
  },
  {
   "cell_type": "code",
   "execution_count": 143,
   "metadata": {},
   "outputs": [
    {
     "name": "stdout",
     "output_type": "stream",
     "text": [
      "GT3    285\n",
      "LE3    110\n",
      "Name: famsize, dtype: int64\n",
      "Уникальных значений: 2\n",
      "Пропущеных значений в столбце: 0\n"
     ]
    },
    {
     "data": {
      "image/png": "[encoded data removed]",
      "text/plain": [
       "<Figure size 432x288 with 1 Axes>"
      ]
     },
     "metadata": {
      "needs_background": "light"
     },
     "output_type": "display_data"
    }
   ],
   "source": [
    "col_info(stud,'famsize')"
   ]
  },
  {
   "cell_type": "markdown",
   "metadata": {},
   "source": [
    "Теперь в выборке отсутствуют пробелы."
   ]
  },
  {
   "cell_type": "markdown",
   "metadata": {},
   "source": [
    "### 7. Рассмотрим атрибут Medu:"
   ]
  },
  {
   "cell_type": "code",
   "execution_count": 144,
   "metadata": {},
   "outputs": [
    {
     "name": "stdout",
     "output_type": "stream",
     "text": [
      "Мода:  0    4.0\n",
      "dtype: float64\n",
      "Медиана:  3.0\n",
      "Среднее 2.75\n",
      "Пропущеных значений в столбце: 3\n"
     ]
    },
    {
     "data": {
      "image/png": "[encoded data removed]",
      "text/plain": [
       "<Figure size 432x288 with 1 Axes>"
      ]
     },
     "metadata": {
      "needs_background": "light"
     },
     "output_type": "display_data"
    }
   ],
   "source": [
    "col_info(stud, 'Medu')"
   ]
  },
  {
   "cell_type": "markdown",
   "metadata": {},
   "source": [
    "Сравним этот показатель с Fedu"
   ]
  },
  {
   "cell_type": "code",
   "execution_count": 145,
   "metadata": {},
   "outputs": [
    {
     "data": {
      "text/plain": [
       "<matplotlib.axes._subplots.AxesSubplot at 0x2340d1a2ca0>"
      ]
     },
     "execution_count": 145,
     "metadata": {},
     "output_type": "execute_result"
    },
    {
     "data": {
      "image/png": "[encoded data removed]",
      "text/plain": [
       "<Figure size 432x288 with 2 Axes>"
      ]
     },
     "metadata": {
      "needs_background": "light"
     },
     "output_type": "display_data"
    }
   ],
   "source": [
    "sns.heatmap(pd.crosstab(stud['Fedu'], stud['Medu']), annot = True, cmap = \"YlGnBu\")"
   ]
  },
  {
   "cell_type": "markdown",
   "metadata": {},
   "source": [
    "Явно прослеживается корреляция между образованием отца и матери."
   ]
  },
  {
   "cell_type": "code",
   "execution_count": 146,
   "metadata": {},
   "outputs": [
    {
     "name": "stdout",
     "output_type": "stream",
     "text": [
      "Мода:  0    1.0\n",
      "1    2.0\n",
      "2    3.0\n",
      "dtype: float64\n",
      "Медиана:  2.0\n",
      "Среднее 2.0\n",
      "Пропущеных значений в столбце: 0\n"
     ]
    },
    {
     "data": {
      "image/png": "[encoded data removed]",
      "text/plain": [
       "<Figure size 432x288 with 1 Axes>"
      ]
     },
     "metadata": {
      "needs_background": "light"
     },
     "output_type": "display_data"
    }
   ],
   "source": [
    "col_info(stud[pd.isnull(stud.Medu)], 'Fedu')"
   ]
  },
  {
   "cell_type": "markdown",
   "metadata": {},
   "source": [
    "Для всех пустых значений Medu = Fedu"
   ]
  },
  {
   "cell_type": "code",
   "execution_count": 147,
   "metadata": {},
   "outputs": [
    {
     "name": "stdout",
     "output_type": "stream",
     "text": [
      "Мода:  0    4.0\n",
      "dtype: float64\n",
      "Медиана:  3.0\n",
      "Среднее 2.7443037974683544\n",
      "Пропущеных значений в столбце: 0\n"
     ]
    },
    {
     "data": {
      "image/png": "[encoded data removed]",
      "text/plain": [
       "<Figure size 432x288 with 1 Axes>"
      ]
     },
     "metadata": {
      "needs_background": "light"
     },
     "output_type": "display_data"
    }
   ],
   "source": [
    "stud.loc[stud['Medu'].isnull(), 'Medu'] = stud.Fedu[stud.Medu.isnull()]\n",
    "col_info(stud, 'Medu')"
   ]
  },
  {
   "cell_type": "markdown",
   "metadata": {},
   "source": [
    "Теперь в выборке отсутствуют пробелы."
   ]
  },
  {
   "cell_type": "markdown",
   "metadata": {},
   "source": [
    "### 8. Рассмотрим атрибут Fedu:"
   ]
  },
  {
   "cell_type": "code",
   "execution_count": 148,
   "metadata": {},
   "outputs": [
    {
     "name": "stdout",
     "output_type": "stream",
     "text": [
      "Мода:  0    2.0\n",
      "dtype: float64\n",
      "Медиана:  2.0\n",
      "Среднее 2.61455525606469\n",
      "Пропущеных значений в столбце: 24\n"
     ]
    },
    {
     "data": {
      "image/png": "[encoded data removed]",
      "text/plain": [
       "<Figure size 432x288 with 1 Axes>"
      ]
     },
     "metadata": {
      "needs_background": "light"
     },
     "output_type": "display_data"
    }
   ],
   "source": [
    "col_info(stud, 'Fedu')"
   ]
  },
  {
   "cell_type": "markdown",
   "metadata": {},
   "source": [
    "В выборке присутствует ошибка, это значение 40. Возможно это неправильно записаное значение 4.0"
   ]
  },
  {
   "cell_type": "code",
   "execution_count": 149,
   "metadata": {},
   "outputs": [
    {
     "name": "stdout",
     "output_type": "stream",
     "text": [
      "Мода:  0    2.0\n",
      "dtype: float64\n",
      "Медиана:  2.0\n",
      "Среднее 2.5175202156334233\n",
      "Пропущеных значений в столбце: 24\n"
     ]
    },
    {
     "data": {
      "image/png": "[encoded data removed]",
      "text/plain": [
       "<Figure size 432x288 with 1 Axes>"
      ]
     },
     "metadata": {
      "needs_background": "light"
     },
     "output_type": "display_data"
    }
   ],
   "source": [
    "stud.loc[stud['Fedu']==40.0, 'Fedu'] = 4\n",
    "col_info(stud, 'Fedu')"
   ]
  },
  {
   "cell_type": "markdown",
   "metadata": {},
   "source": [
    "Как мы уже знаем, существует корреляция между Fedu и Medu. Таким образом мы закроем пробелы."
   ]
  },
  {
   "cell_type": "code",
   "execution_count": 150,
   "metadata": {},
   "outputs": [
    {
     "name": "stdout",
     "output_type": "stream",
     "text": [
      "Мода:  0    2.0\n",
      "dtype: float64\n",
      "Медиана:  3.0\n",
      "Среднее 2.5468354430379745\n",
      "Пропущеных значений в столбце: 0\n"
     ]
    },
    {
     "data": {
      "image/png": "[encoded data removed]",
      "text/plain": [
       "<Figure size 432x288 with 1 Axes>"
      ]
     },
     "metadata": {
      "needs_background": "light"
     },
     "output_type": "display_data"
    }
   ],
   "source": [
    "stud.loc[stud['Fedu'].isnull(), 'Fedu'] = stud.Medu[stud.Fedu.isnull()]\n",
    "col_info(stud, 'Fedu')"
   ]
  },
  {
   "cell_type": "markdown",
   "metadata": {},
   "source": [
    "### 9. Рассмотрим атрибут Mjob:"
   ]
  },
  {
   "cell_type": "code",
   "execution_count": 151,
   "metadata": {},
   "outputs": [
    {
     "name": "stdout",
     "output_type": "stream",
     "text": [
      "other       133\n",
      "services     98\n",
      "at_home      58\n",
      "teacher      55\n",
      "health       32\n",
      "Name: Mjob, dtype: int64\n",
      "Уникальных значений: 5\n",
      "Пропущеных значений в столбце: 19\n"
     ]
    },
    {
     "data": {
      "image/png": "[encoded data removed]",
      "text/plain": [
       "<Figure size 432x288 with 1 Axes>"
      ]
     },
     "metadata": {
      "needs_background": "light"
     },
     "output_type": "display_data"
    }
   ],
   "source": [
    "col_info(stud, 'Mjob')"
   ]
  },
  {
   "cell_type": "markdown",
   "metadata": {},
   "source": [
    "Заполним пропуски случайно одним из двух частых значений."
   ]
  },
  {
   "cell_type": "code",
   "execution_count": 152,
   "metadata": {},
   "outputs": [
    {
     "name": "stdout",
     "output_type": "stream",
     "text": [
      "other       152\n",
      "services     98\n",
      "at_home      58\n",
      "teacher      55\n",
      "health       32\n",
      "Name: Mjob, dtype: int64\n",
      "Уникальных значений: 5\n",
      "Пропущеных значений в столбце: 0\n"
     ]
    },
    {
     "data": {
      "image/png": "[encoded data removed]",
      "text/plain": [
       "<Figure size 432x288 with 1 Axes>"
      ]
     },
     "metadata": {
      "needs_background": "light"
     },
     "output_type": "display_data"
    }
   ],
   "source": [
    "stud.loc[stud['Mjob'].isnull(), 'Mjob'] = random.choices(['other', 'services'], weights=[127, 98])\n",
    "col_info(stud, 'Mjob')"
   ]
  },
  {
   "cell_type": "markdown",
   "metadata": {},
   "source": [
    "### 10. Рассмотрим атрибут Fjob:"
   ]
  },
  {
   "cell_type": "code",
   "execution_count": 153,
   "metadata": {},
   "outputs": [
    {
     "name": "stdout",
     "output_type": "stream",
     "text": [
      "other       197\n",
      "services    102\n",
      "teacher      29\n",
      "at_home      16\n",
      "health       15\n",
      "Name: Fjob, dtype: int64\n",
      "Уникальных значений: 5\n",
      "Пропущеных значений в столбце: 36\n"
     ]
    },
    {
     "data": {
      "image/png": "[encoded data removed]",
      "text/plain": [
       "<Figure size 432x288 with 1 Axes>"
      ]
     },
     "metadata": {
      "needs_background": "light"
     },
     "output_type": "display_data"
    }
   ],
   "source": [
    "col_info(stud, 'Fjob')"
   ]
  },
  {
   "cell_type": "code",
   "execution_count": 154,
   "metadata": {},
   "outputs": [
    {
     "name": "stdout",
     "output_type": "stream",
     "text": [
      "other       197\n",
      "services    138\n",
      "teacher      29\n",
      "at_home      16\n",
      "health       15\n",
      "Name: Fjob, dtype: int64\n",
      "Уникальных значений: 5\n",
      "Пропущеных значений в столбце: 0\n"
     ]
    },
    {
     "data": {
      "image/png": "[encoded data removed]",
      "text/plain": [
       "<Figure size 432x288 with 1 Axes>"
      ]
     },
     "metadata": {
      "needs_background": "light"
     },
     "output_type": "display_data"
    }
   ],
   "source": [
    "stud.loc[stud['Fjob'].isnull(), 'Fjob'] = random.choices(['other', 'services'], weights=[197, 102])\n",
    "col_info(stud, 'Fjob')"
   ]
  },
  {
   "cell_type": "markdown",
   "metadata": {},
   "source": [
    "### 11. Рассмотрим атрибут reason:"
   ]
  },
  {
   "cell_type": "code",
   "execution_count": 155,
   "metadata": {},
   "outputs": [
    {
     "name": "stdout",
     "output_type": "stream",
     "text": [
      "course        137\n",
      "home          104\n",
      "reputation    103\n",
      "other          34\n",
      "Name: reason, dtype: int64\n",
      "Уникальных значений: 4\n",
      "Пропущеных значений в столбце: 17\n"
     ]
    },
    {
     "data": {
      "image/png": "[encoded data removed]",
      "text/plain": [
       "<Figure size 432x288 with 1 Axes>"
      ]
     },
     "metadata": {
      "needs_background": "light"
     },
     "output_type": "display_data"
    }
   ],
   "source": [
    "col_info(stud, 'reason')"
   ]
  },
  {
   "cell_type": "markdown",
   "metadata": {},
   "source": [
    "Сравним это показатель в контексте продолжительности пути до школы"
   ]
  },
  {
   "cell_type": "code",
   "execution_count": 156,
   "metadata": {},
   "outputs": [
    {
     "data": {
      "text/plain": [
       "<matplotlib.axes._subplots.AxesSubplot at 0x2340e60ef10>"
      ]
     },
     "execution_count": 156,
     "metadata": {},
     "output_type": "execute_result"
    },
    {
     "data": {
      "image/png": "[encoded data removed]",
      "text/plain": [
       "<Figure size 432x288 with 2 Axes>"
      ]
     },
     "metadata": {
      "needs_background": "light"
     },
     "output_type": "display_data"
    }
   ],
   "source": [
    "sns.heatmap(pd.crosstab(stud['reason'], stud['traveltime']), annot = True, cmap = \"YlGnBu\")"
   ]
  },
  {
   "cell_type": "markdown",
   "metadata": {},
   "source": [
    "В выборке прослеживается корреляция между расстоянием до школы и причиной = близость к дому. Так же одни из самых важных признаков для учеников - образовательная программа и репутация. Логично заполнить пробелы случайно выбирая из этих причин."
   ]
  },
  {
   "cell_type": "code",
   "execution_count": 157,
   "metadata": {},
   "outputs": [
    {
     "name": "stdout",
     "output_type": "stream",
     "text": [
      "course        137\n",
      "reputation    120\n",
      "home          104\n",
      "other          34\n",
      "Name: reason, dtype: int64\n",
      "Уникальных значений: 4\n",
      "Пропущеных значений в столбце: 0\n"
     ]
    },
    {
     "data": {
      "image/png": "[encoded data removed]",
      "text/plain": [
       "<Figure size 432x288 with 1 Axes>"
      ]
     },
     "metadata": {
      "needs_background": "light"
     },
     "output_type": "display_data"
    }
   ],
   "source": [
    "stud.loc[stud['reason'].isnull(), 'reason'] = random.choices(['course', 'home', 'reputation'], weights=[137, 104, 103])\n",
    "col_info(stud, 'reason')"
   ]
  },
  {
   "cell_type": "markdown",
   "metadata": {},
   "source": [
    "Теперь в выборке отсутствуют пробелы."
   ]
  },
  {
   "cell_type": "markdown",
   "metadata": {},
   "source": [
    "### 12. Рассмотрим атрибут guardian:"
   ]
  },
  {
   "cell_type": "code",
   "execution_count": 158,
   "metadata": {},
   "outputs": [
    {
     "name": "stdout",
     "output_type": "stream",
     "text": [
      "mother    250\n",
      "father     86\n",
      "other      28\n",
      "Name: guardian, dtype: int64\n",
      "Уникальных значений: 3\n",
      "Пропущеных значений в столбце: 31\n"
     ]
    },
    {
     "data": {
      "image/png": "[encoded data removed]",
      "text/plain": [
       "<Figure size 432x288 with 1 Axes>"
      ]
     },
     "metadata": {
      "needs_background": "light"
     },
     "output_type": "display_data"
    }
   ],
   "source": [
    "col_info(stud, 'guardian')"
   ]
  },
  {
   "cell_type": "markdown",
   "metadata": {},
   "source": [
    "Наиболее встречающейся параметр = mother"
   ]
  },
  {
   "cell_type": "code",
   "execution_count": 159,
   "metadata": {
    "scrolled": true
   },
   "outputs": [
    {
     "name": "stdout",
     "output_type": "stream",
     "text": [
      "mother    281\n",
      "father     86\n",
      "other      28\n",
      "Name: guardian, dtype: int64\n",
      "Уникальных значений: 3\n",
      "Пропущеных значений в столбце: 0\n"
     ]
    },
    {
     "data": {
      "image/png": "[encoded data removed]",
      "text/plain": [
       "<Figure size 432x288 with 1 Axes>"
      ]
     },
     "metadata": {
      "needs_background": "light"
     },
     "output_type": "display_data"
    }
   ],
   "source": [
    "stud.loc[stud['guardian'].isnull(), 'guardian'] = 'mother'\n",
    "col_info(stud, 'guardian')"
   ]
  },
  {
   "cell_type": "markdown",
   "metadata": {},
   "source": [
    "Теперь в выборке отсутствуют пробелы."
   ]
  },
  {
   "cell_type": "markdown",
   "metadata": {},
   "source": [
    "### 13. Рассмотрим атрибут traveltime:"
   ]
  },
  {
   "cell_type": "code",
   "execution_count": 160,
   "metadata": {},
   "outputs": [
    {
     "name": "stdout",
     "output_type": "stream",
     "text": [
      "Мода:  0    1.0\n",
      "dtype: float64\n",
      "Медиана:  1.0\n",
      "Среднее 1.438692098092643\n",
      "Пропущеных значений в столбце: 28\n"
     ]
    },
    {
     "data": {
      "image/png": "[encoded data removed]",
      "text/plain": [
       "<Figure size 432x288 with 1 Axes>"
      ]
     },
     "metadata": {
      "needs_background": "light"
     },
     "output_type": "display_data"
    }
   ],
   "source": [
    "col_info(stud, 'traveltime')"
   ]
  },
  {
   "cell_type": "markdown",
   "metadata": {},
   "source": [
    "Преобладающее значениие 1.0"
   ]
  },
  {
   "cell_type": "code",
   "execution_count": 161,
   "metadata": {},
   "outputs": [
    {
     "name": "stdout",
     "output_type": "stream",
     "text": [
      "Мода:  0    1.0\n",
      "dtype: float64\n",
      "Медиана:  1.0\n",
      "Среднее 1.4075949367088607\n",
      "Пропущеных значений в столбце: 0\n"
     ]
    },
    {
     "data": {
      "image/png": "[encoded data removed]",
      "text/plain": [
       "<Figure size 432x288 with 1 Axes>"
      ]
     },
     "metadata": {
      "needs_background": "light"
     },
     "output_type": "display_data"
    }
   ],
   "source": [
    "stud.loc[stud['traveltime'].isnull(), 'traveltime'] = 1.0\n",
    "col_info(stud, 'traveltime')"
   ]
  },
  {
   "cell_type": "markdown",
   "metadata": {},
   "source": [
    "Теперь в выборке отсутствуют пробелы."
   ]
  },
  {
   "cell_type": "markdown",
   "metadata": {},
   "source": [
    "### 14. Рассмотрим атрибут studytime:"
   ]
  },
  {
   "cell_type": "code",
   "execution_count": 162,
   "metadata": {},
   "outputs": [
    {
     "name": "stdout",
     "output_type": "stream",
     "text": [
      "Мода:  0    2.0\n",
      "dtype: float64\n",
      "Медиана:  2.0\n",
      "Среднее 2.038659793814433\n",
      "Пропущеных значений в столбце: 7\n"
     ]
    },
    {
     "data": {
      "image/png": "[encoded data removed]",
      "text/plain": [
       "<Figure size 432x288 with 1 Axes>"
      ]
     },
     "metadata": {
      "needs_background": "light"
     },
     "output_type": "display_data"
    }
   ],
   "source": [
    "col_info(stud, 'studytime')"
   ]
  },
  {
   "cell_type": "markdown",
   "metadata": {},
   "source": [
    "Рассмотрим как изменяется studytime в зависимости от sex"
   ]
  },
  {
   "cell_type": "code",
   "execution_count": 163,
   "metadata": {},
   "outputs": [
    {
     "data": {
      "text/plain": [
       "<matplotlib.axes._subplots.AxesSubplot at 0x2340e8d31f0>"
      ]
     },
     "execution_count": 163,
     "metadata": {},
     "output_type": "execute_result"
    },
    {
     "data": {
      "image/png": "[encoded data removed]",
      "text/plain": [
       "<Figure size 432x288 with 2 Axes>"
      ]
     },
     "metadata": {
      "needs_background": "light"
     },
     "output_type": "display_data"
    }
   ],
   "source": [
    "sns.heatmap(pd.crosstab(stud['studytime'], stud['sex']), annot = True, cmap = \"YlGnBu\")"
   ]
  },
  {
   "cell_type": "markdown",
   "metadata": {},
   "source": [
    "Видно что для девочек преобладающим значением studytime является 2.0, в то время как для мальчиков значения распределены поровну между 1.0 и 2.0"
   ]
  },
  {
   "cell_type": "code",
   "execution_count": 164,
   "metadata": {},
   "outputs": [],
   "source": [
    "stud.loc[(stud['studytime'].isnull())&(stud['sex']=='M'), 'studytime'] = random.choice([1.0, 2.0])\n",
    "stud.loc[(stud['studytime'].isnull())&(stud['sex']=='F'), 'studytime'] = 2.0"
   ]
  },
  {
   "cell_type": "code",
   "execution_count": 165,
   "metadata": {},
   "outputs": [
    {
     "name": "stdout",
     "output_type": "stream",
     "text": [
      "Мода:  0    2.0\n",
      "dtype: float64\n",
      "Медиана:  2.0\n",
      "Среднее 2.037974683544304\n",
      "Пропущеных значений в столбце: 0\n"
     ]
    },
    {
     "data": {
      "image/png": "[encoded data removed]",
      "text/plain": [
       "<Figure size 432x288 with 1 Axes>"
      ]
     },
     "metadata": {
      "needs_background": "light"
     },
     "output_type": "display_data"
    }
   ],
   "source": [
    "col_info(stud, 'studytime')"
   ]
  },
  {
   "cell_type": "markdown",
   "metadata": {},
   "source": [
    "Теперь в выборке отсутствуют пробелы."
   ]
  },
  {
   "cell_type": "markdown",
   "metadata": {},
   "source": [
    "### 15. Рассмотрим атрибут failures:"
   ]
  },
  {
   "cell_type": "code",
   "execution_count": 166,
   "metadata": {},
   "outputs": [
    {
     "name": "stdout",
     "output_type": "stream",
     "text": [
      "Мода:  0    0.0\n",
      "dtype: float64\n",
      "Медиана:  0.0\n",
      "Среднее 0.3378016085790885\n",
      "Пропущеных значений в столбце: 22\n"
     ]
    },
    {
     "data": {
      "image/png": "[encoded data removed]",
      "text/plain": [
       "<Figure size 432x288 with 1 Axes>"
      ]
     },
     "metadata": {
      "needs_background": "light"
     },
     "output_type": "display_data"
    }
   ],
   "source": [
    "col_info(stud, 'failures')"
   ]
  },
  {
   "cell_type": "markdown",
   "metadata": {},
   "source": [
    "Из графика видно что у подавляющего большинства отсутствуют внеучебные неудачи. Этим значением можно закрыть пробелы"
   ]
  },
  {
   "cell_type": "code",
   "execution_count": 167,
   "metadata": {},
   "outputs": [],
   "source": [
    "stud.failures = stud.failures.apply(lambda x: 0.0 if pd.isnull(x) else x)"
   ]
  },
  {
   "cell_type": "code",
   "execution_count": 168,
   "metadata": {},
   "outputs": [
    {
     "name": "stdout",
     "output_type": "stream",
     "text": [
      "Мода:  0    0.0\n",
      "dtype: float64\n",
      "Медиана:  0.0\n",
      "Среднее 0.3189873417721519\n",
      "Пропущеных значений в столбце: 0\n"
     ]
    },
    {
     "data": {
      "image/png": "[encoded data removed]",
      "text/plain": [
       "<Figure size 432x288 with 1 Axes>"
      ]
     },
     "metadata": {
      "needs_background": "light"
     },
     "output_type": "display_data"
    }
   ],
   "source": [
    "col_info(stud, 'failures')"
   ]
  },
  {
   "cell_type": "markdown",
   "metadata": {},
   "source": [
    "Теперь в выборке отсутствуют пробелы."
   ]
  },
  {
   "cell_type": "markdown",
   "metadata": {},
   "source": [
    "### 16. Рассмотрим атрибут schoolsup:"
   ]
  },
  {
   "cell_type": "code",
   "execution_count": 169,
   "metadata": {},
   "outputs": [
    {
     "name": "stdout",
     "output_type": "stream",
     "text": [
      "no     335\n",
      "yes     51\n",
      "Name: schoolsup, dtype: int64\n",
      "Уникальных значений: 2\n",
      "Пропущеных значений в столбце: 9\n"
     ]
    },
    {
     "data": {
      "image/png": "[encoded data removed]",
      "text/plain": [
       "<Figure size 432x288 with 1 Axes>"
      ]
     },
     "metadata": {
      "needs_background": "light"
     },
     "output_type": "display_data"
    }
   ],
   "source": [
    "col_info(stud, 'schoolsup')"
   ]
  },
  {
   "cell_type": "markdown",
   "metadata": {},
   "source": [
    "Из графика видно что у подавляющего большинства отсутствуют дополнительная образовательная поддержка. Этим значением можно закрыть пробелы"
   ]
  },
  {
   "cell_type": "code",
   "execution_count": 170,
   "metadata": {},
   "outputs": [],
   "source": [
    "stud.schoolsup = stud.schoolsup.apply(lambda x: 'no' if pd.isnull(x) else x)"
   ]
  },
  {
   "cell_type": "code",
   "execution_count": 171,
   "metadata": {},
   "outputs": [
    {
     "name": "stdout",
     "output_type": "stream",
     "text": [
      "no     344\n",
      "yes     51\n",
      "Name: schoolsup, dtype: int64\n",
      "Уникальных значений: 2\n",
      "Пропущеных значений в столбце: 0\n"
     ]
    },
    {
     "data": {
      "image/png": "[encoded data removed]",
      "text/plain": [
       "<Figure size 432x288 with 1 Axes>"
      ]
     },
     "metadata": {
      "needs_background": "light"
     },
     "output_type": "display_data"
    }
   ],
   "source": [
    "col_info(stud, 'schoolsup')"
   ]
  },
  {
   "cell_type": "markdown",
   "metadata": {},
   "source": [
    "Теперь в выборке отсутствуют пробелы."
   ]
  },
  {
   "cell_type": "markdown",
   "metadata": {},
   "source": [
    "### 17. Рассмотрим атрибут famsup:"
   ]
  },
  {
   "cell_type": "code",
   "execution_count": 172,
   "metadata": {},
   "outputs": [
    {
     "name": "stdout",
     "output_type": "stream",
     "text": [
      "yes    219\n",
      "no     137\n",
      "Name: famsup, dtype: int64\n",
      "Уникальных значений: 2\n",
      "Пропущеных значений в столбце: 39\n"
     ]
    },
    {
     "data": {
      "image/png": "[encoded data removed]",
      "text/plain": [
       "<Figure size 432x288 with 1 Axes>"
      ]
     },
     "metadata": {
      "needs_background": "light"
     },
     "output_type": "display_data"
    }
   ],
   "source": [
    "col_info(stud, 'famsup')"
   ]
  },
  {
   "cell_type": "code",
   "execution_count": 173,
   "metadata": {},
   "outputs": [
    {
     "data": {
      "text/plain": [
       "<matplotlib.axes._subplots.AxesSubplot at 0x2340ebb08e0>"
      ]
     },
     "execution_count": 173,
     "metadata": {},
     "output_type": "execute_result"
    },
    {
     "data": {
      "image/png": "[encoded data removed]",
      "text/plain": [
       "<Figure size 432x288 with 2 Axes>"
      ]
     },
     "metadata": {
      "needs_background": "light"
     },
     "output_type": "display_data"
    }
   ],
   "source": [
    "sns.heatmap(pd.crosstab(stud['famsup'], stud['paid']), annot = True, cmap = \"YlGnBu\")"
   ]
  },
  {
   "cell_type": "code",
   "execution_count": 174,
   "metadata": {},
   "outputs": [],
   "source": [
    "stud.loc[(stud['famsup'].isnull())&(stud['paid']=='no'), 'famsup'] = random.choice(['yes', 'no'])\n",
    "stud.loc[(stud['famsup'].isnull())&(stud['paid']=='yes'), 'famsup'] = 'yes'\n",
    "stud.loc[(stud['famsup'].isnull())&(stud['paid'].isnull()), 'famsup'] = random.choice(['yes', 'no'])"
   ]
  },
  {
   "cell_type": "code",
   "execution_count": 175,
   "metadata": {},
   "outputs": [
    {
     "name": "stdout",
     "output_type": "stream",
     "text": [
      "yes    258\n",
      "no     137\n",
      "Name: famsup, dtype: int64\n",
      "Уникальных значений: 2\n",
      "Пропущеных значений в столбце: 0\n"
     ]
    },
    {
     "data": {
      "image/png": "[encoded data removed]",
      "text/plain": [
       "<Figure size 432x288 with 1 Axes>"
      ]
     },
     "metadata": {
      "needs_background": "light"
     },
     "output_type": "display_data"
    }
   ],
   "source": [
    "col_info(stud, 'famsup')"
   ]
  },
  {
   "cell_type": "markdown",
   "metadata": {},
   "source": [
    "### 18. Рассмотрим атрибут paid:"
   ]
  },
  {
   "cell_type": "code",
   "execution_count": 176,
   "metadata": {},
   "outputs": [
    {
     "name": "stdout",
     "output_type": "stream",
     "text": [
      "no     200\n",
      "yes    155\n",
      "Name: paid, dtype: int64\n",
      "Уникальных значений: 2\n",
      "Пропущеных значений в столбце: 40\n"
     ]
    },
    {
     "data": {
      "image/png": "[encoded data removed]",
      "text/plain": [
       "<Figure size 432x288 with 1 Axes>"
      ]
     },
     "metadata": {
      "needs_background": "light"
     },
     "output_type": "display_data"
    }
   ],
   "source": [
    "col_info(stud, 'paid')"
   ]
  },
  {
   "cell_type": "code",
   "execution_count": 177,
   "metadata": {},
   "outputs": [
    {
     "data": {
      "text/plain": [
       "<matplotlib.axes._subplots.AxesSubplot at 0x2340fc83d30>"
      ]
     },
     "execution_count": 177,
     "metadata": {},
     "output_type": "execute_result"
    },
    {
     "data": {
      "image/png": "[encoded data removed]",
      "text/plain": [
       "<Figure size 432x288 with 2 Axes>"
      ]
     },
     "metadata": {
      "needs_background": "light"
     },
     "output_type": "display_data"
    }
   ],
   "source": [
    "sns.heatmap(pd.crosstab(stud['paid'], stud['famsup']), annot = True, cmap = \"YlGnBu\")"
   ]
  },
  {
   "cell_type": "code",
   "execution_count": 178,
   "metadata": {},
   "outputs": [],
   "source": [
    "stud.loc[(stud['paid'].isnull())&(stud['famsup']=='yes'), 'paid'] = random.choice(['yes', 'no'])\n",
    "stud.loc[(stud['paid'].isnull())&(stud['famsup']=='no'), 'paid'] = 'no'"
   ]
  },
  {
   "cell_type": "code",
   "execution_count": 179,
   "metadata": {},
   "outputs": [
    {
     "name": "stdout",
     "output_type": "stream",
     "text": [
      "no     211\n",
      "yes    184\n",
      "Name: paid, dtype: int64\n",
      "Уникальных значений: 2\n",
      "Пропущеных значений в столбце: 0\n"
     ]
    },
    {
     "data": {
      "image/png": "[encoded data removed]",
      "text/plain": [
       "<Figure size 432x288 with 1 Axes>"
      ]
     },
     "metadata": {
      "needs_background": "light"
     },
     "output_type": "display_data"
    }
   ],
   "source": [
    "col_info(stud, 'paid')"
   ]
  },
  {
   "cell_type": "markdown",
   "metadata": {},
   "source": [
    "### 19. Рассмотрим атрибут activities:"
   ]
  },
  {
   "cell_type": "code",
   "execution_count": 180,
   "metadata": {},
   "outputs": [
    {
     "name": "stdout",
     "output_type": "stream",
     "text": [
      "yes    195\n",
      "no     186\n",
      "Name: activities, dtype: int64\n",
      "Уникальных значений: 2\n",
      "Пропущеных значений в столбце: 14\n"
     ]
    },
    {
     "data": {
      "image/png": "[encoded data removed]",
      "text/plain": [
       "<Figure size 432x288 with 1 Axes>"
      ]
     },
     "metadata": {
      "needs_background": "light"
     },
     "output_type": "display_data"
    }
   ],
   "source": [
    "col_info(stud, 'activities')"
   ]
  },
  {
   "cell_type": "code",
   "execution_count": 181,
   "metadata": {},
   "outputs": [
    {
     "data": {
      "text/plain": [
       "<matplotlib.axes._subplots.AxesSubplot at 0x2340ec77190>"
      ]
     },
     "execution_count": 181,
     "metadata": {},
     "output_type": "execute_result"
    },
    {
     "data": {
      "image/png": "[encoded data removed]",
      "text/plain": [
       "<Figure size 432x288 with 2 Axes>"
      ]
     },
     "metadata": {
      "needs_background": "light"
     },
     "output_type": "display_data"
    }
   ],
   "source": [
    "sns.heatmap(pd.crosstab(stud['activities'], stud['sex']), annot = True, cmap = \"YlGnBu\")"
   ]
  },
  {
   "cell_type": "markdown",
   "metadata": {},
   "source": [
    "Распределение значений для activities меняется в зависимости от пола. Если F то no, если M то yes. "
   ]
  },
  {
   "cell_type": "code",
   "execution_count": 182,
   "metadata": {},
   "outputs": [
    {
     "name": "stdout",
     "output_type": "stream",
     "text": [
      "yes    203\n",
      "no     192\n",
      "Name: activities, dtype: int64\n",
      "Уникальных значений: 2\n",
      "Пропущеных значений в столбце: 0\n"
     ]
    },
    {
     "data": {
      "image/png": "[encoded data removed]",
      "text/plain": [
       "<Figure size 432x288 with 1 Axes>"
      ]
     },
     "metadata": {
      "needs_background": "light"
     },
     "output_type": "display_data"
    }
   ],
   "source": [
    "stud.loc[(stud['activities'].isnull())&(stud['sex']=='F'), 'activities'] = 'no'\n",
    "stud.loc[(stud['activities'].isnull())&(stud['sex']=='M'), 'activities'] = 'yes'\n",
    "col_info(stud, 'activities')"
   ]
  },
  {
   "cell_type": "markdown",
   "metadata": {},
   "source": [
    "### 20. Рассмотрим атрибут nursery:"
   ]
  },
  {
   "cell_type": "code",
   "execution_count": 183,
   "metadata": {},
   "outputs": [
    {
     "name": "stdout",
     "output_type": "stream",
     "text": [
      "yes    300\n",
      "no      79\n",
      "Name: nursery, dtype: int64\n",
      "Уникальных значений: 2\n",
      "Пропущеных значений в столбце: 16\n"
     ]
    },
    {
     "data": {
      "image/png": "[encoded data removed]",
      "text/plain": [
       "<Figure size 432x288 with 1 Axes>"
      ]
     },
     "metadata": {
      "needs_background": "light"
     },
     "output_type": "display_data"
    }
   ],
   "source": [
    "col_info(stud, 'nursery')"
   ]
  },
  {
   "cell_type": "markdown",
   "metadata": {},
   "source": [
    "Большая часть учеников посещала детский сад. Пробелы можно заполнить значением yes"
   ]
  },
  {
   "cell_type": "code",
   "execution_count": 184,
   "metadata": {},
   "outputs": [],
   "source": [
    "stud.nursery = stud.nursery.apply(lambda x: 'yes' if pd.isnull(x) else x)"
   ]
  },
  {
   "cell_type": "code",
   "execution_count": 185,
   "metadata": {},
   "outputs": [
    {
     "name": "stdout",
     "output_type": "stream",
     "text": [
      "yes    316\n",
      "no      79\n",
      "Name: nursery, dtype: int64\n",
      "Уникальных значений: 2\n",
      "Пропущеных значений в столбце: 0\n"
     ]
    },
    {
     "data": {
      "image/png": "[encoded data removed]",
      "text/plain": [
       "<Figure size 432x288 with 1 Axes>"
      ]
     },
     "metadata": {
      "needs_background": "light"
     },
     "output_type": "display_data"
    }
   ],
   "source": [
    "col_info(stud, 'nursery')"
   ]
  },
  {
   "cell_type": "markdown",
   "metadata": {},
   "source": [
    "### 21. Рассмотрим атрибут studytime, granular:"
   ]
  },
  {
   "cell_type": "markdown",
   "metadata": {},
   "source": [
    "Переименуем столбец \"studytime, granular\" в \"studytime_granular\""
   ]
  },
  {
   "cell_type": "code",
   "execution_count": 186,
   "metadata": {},
   "outputs": [
    {
     "name": "stdout",
     "output_type": "stream",
     "text": [
      "-6.0     194\n",
      "-3.0     103\n",
      "-9.0      64\n",
      "-12.0     27\n",
      " NaN       7\n",
      "Name: studytime_granular, dtype: int64\n"
     ]
    },
    {
     "data": {
      "text/plain": [
       "<matplotlib.axes._subplots.AxesSubplot at 0x2340ff03850>"
      ]
     },
     "execution_count": 186,
     "metadata": {},
     "output_type": "execute_result"
    },
    {
     "data": {
      "image/png": "[encoded data removed]",
      "text/plain": [
       "<Figure size 432x288 with 1 Axes>"
      ]
     },
     "metadata": {
      "needs_background": "light"
     },
     "output_type": "display_data"
    }
   ],
   "source": [
    "stud = stud.rename(columns={'studytime, granular' : 'studytime_granular'})\n",
    "print(stud.studytime_granular.value_counts(dropna=False))\n",
    "stud.studytime_granular.hist()\n",
    "stud.studytime.hist()"
   ]
  },
  {
   "cell_type": "markdown",
   "metadata": {},
   "source": [
    "Атрибут зеркально копирует значения в атрибуте studytime, его имеет смысл удалить"
   ]
  },
  {
   "cell_type": "code",
   "execution_count": 187,
   "metadata": {},
   "outputs": [],
   "source": [
    "del stud['studytime_granular']"
   ]
  },
  {
   "cell_type": "code",
   "execution_count": 188,
   "metadata": {},
   "outputs": [
    {
     "name": "stdout",
     "output_type": "stream",
     "text": [
      "<class 'pandas.core.frame.DataFrame'>\n",
      "RangeIndex: 395 entries, 0 to 394\n",
      "Data columns (total 29 columns):\n",
      " #   Column      Non-Null Count  Dtype  \n",
      "---  ------      --------------  -----  \n",
      " 0   school      395 non-null    object \n",
      " 1   sex         395 non-null    object \n",
      " 2   age         395 non-null    int64  \n",
      " 3   address     395 non-null    object \n",
      " 4   famsize     395 non-null    object \n",
      " 5   Pstatus     395 non-null    object \n",
      " 6   Medu        395 non-null    float64\n",
      " 7   Fedu        395 non-null    float64\n",
      " 8   Mjob        395 non-null    object \n",
      " 9   Fjob        395 non-null    object \n",
      " 10  reason      395 non-null    object \n",
      " 11  guardian    395 non-null    object \n",
      " 12  traveltime  395 non-null    float64\n",
      " 13  studytime   395 non-null    float64\n",
      " 14  failures    395 non-null    float64\n",
      " 15  schoolsup   395 non-null    object \n",
      " 16  famsup      395 non-null    object \n",
      " 17  paid        395 non-null    object \n",
      " 18  activities  395 non-null    object \n",
      " 19  nursery     395 non-null    object \n",
      " 20  higher      375 non-null    object \n",
      " 21  internet    361 non-null    object \n",
      " 22  romantic    364 non-null    object \n",
      " 23  famrel      368 non-null    float64\n",
      " 24  freetime    384 non-null    float64\n",
      " 25  goout       387 non-null    float64\n",
      " 26  health      380 non-null    float64\n",
      " 27  absences    383 non-null    float64\n",
      " 28  score       389 non-null    float64\n",
      "dtypes: float64(11), int64(1), object(17)\n",
      "memory usage: 89.6+ KB\n"
     ]
    }
   ],
   "source": [
    "stud.info()"
   ]
  },
  {
   "cell_type": "markdown",
   "metadata": {},
   "source": [
    "Атрибут удален"
   ]
  },
  {
   "cell_type": "markdown",
   "metadata": {},
   "source": [
    "### 22. Рассмотрим атрибут higher:"
   ]
  },
  {
   "cell_type": "code",
   "execution_count": 189,
   "metadata": {},
   "outputs": [
    {
     "name": "stdout",
     "output_type": "stream",
     "text": [
      "yes    356\n",
      "no      19\n",
      "Name: higher, dtype: int64\n",
      "Уникальных значений: 2\n",
      "Пропущеных значений в столбце: 20\n"
     ]
    },
    {
     "data": {
      "image/png": "[encoded data removed]",
      "text/plain": [
       "<Figure size 432x288 with 1 Axes>"
      ]
     },
     "metadata": {
      "needs_background": "light"
     },
     "output_type": "display_data"
    }
   ],
   "source": [
    "col_info(stud, 'higher')"
   ]
  },
  {
   "cell_type": "markdown",
   "metadata": {},
   "source": [
    "Подавляющее большинство учеников хочет получить высшее образование. Пустые значения могут быть заполнены значением yes"
   ]
  },
  {
   "cell_type": "code",
   "execution_count": 190,
   "metadata": {},
   "outputs": [],
   "source": [
    "stud.higher = stud.higher.apply(lambda x: 'yes' if pd.isnull(x) else x)"
   ]
  },
  {
   "cell_type": "code",
   "execution_count": 191,
   "metadata": {},
   "outputs": [
    {
     "name": "stdout",
     "output_type": "stream",
     "text": [
      "yes    376\n",
      "no      19\n",
      "Name: higher, dtype: int64\n",
      "Уникальных значений: 2\n",
      "Пропущеных значений в столбце: 0\n"
     ]
    },
    {
     "data": {
      "image/png": "[encoded data removed]",
      "text/plain": [
       "<Figure size 432x288 with 1 Axes>"
      ]
     },
     "metadata": {
      "needs_background": "light"
     },
     "output_type": "display_data"
    }
   ],
   "source": [
    "col_info(stud, 'higher')"
   ]
  },
  {
   "cell_type": "markdown",
   "metadata": {},
   "source": [
    "### 23. Рассмотрим атрибут internet:"
   ]
  },
  {
   "cell_type": "code",
   "execution_count": 192,
   "metadata": {},
   "outputs": [
    {
     "name": "stdout",
     "output_type": "stream",
     "text": [
      "yes    305\n",
      "no      56\n",
      "Name: internet, dtype: int64\n",
      "Уникальных значений: 2\n",
      "Пропущеных значений в столбце: 34\n"
     ]
    },
    {
     "data": {
      "image/png": "[encoded data removed]",
      "text/plain": [
       "<Figure size 432x288 with 1 Axes>"
      ]
     },
     "metadata": {
      "needs_background": "light"
     },
     "output_type": "display_data"
    }
   ],
   "source": [
    "col_info(stud, 'internet')"
   ]
  },
  {
   "cell_type": "markdown",
   "metadata": {},
   "source": [
    "Подавляющее большинство учеников имеет дома интернет. Пустые значения могут быть заполнены значением yes"
   ]
  },
  {
   "cell_type": "code",
   "execution_count": 193,
   "metadata": {},
   "outputs": [],
   "source": [
    "stud.internet = stud.internet.apply(lambda x: 'yes' if pd.isnull(x) else x)"
   ]
  },
  {
   "cell_type": "code",
   "execution_count": 194,
   "metadata": {},
   "outputs": [
    {
     "name": "stdout",
     "output_type": "stream",
     "text": [
      "yes    339\n",
      "no      56\n",
      "Name: internet, dtype: int64\n",
      "Уникальных значений: 2\n",
      "Пропущеных значений в столбце: 0\n"
     ]
    },
    {
     "data": {
      "image/png": "[encoded data removed]",
      "text/plain": [
       "<Figure size 432x288 with 1 Axes>"
      ]
     },
     "metadata": {
      "needs_background": "light"
     },
     "output_type": "display_data"
    }
   ],
   "source": [
    "col_info(stud, 'internet')"
   ]
  },
  {
   "cell_type": "markdown",
   "metadata": {},
   "source": [
    "### 24. Рассмотрим атрибут romantic:"
   ]
  },
  {
   "cell_type": "code",
   "execution_count": 195,
   "metadata": {},
   "outputs": [
    {
     "name": "stdout",
     "output_type": "stream",
     "text": [
      "no     240\n",
      "yes    124\n",
      "Name: romantic, dtype: int64\n",
      "Уникальных значений: 2\n",
      "Пропущеных значений в столбце: 31\n"
     ]
    },
    {
     "data": {
      "image/png": "[encoded data removed]",
      "text/plain": [
       "<Figure size 432x288 with 1 Axes>"
      ]
     },
     "metadata": {
      "needs_background": "light"
     },
     "output_type": "display_data"
    }
   ],
   "source": [
    "col_info(stud, 'romantic')"
   ]
  },
  {
   "cell_type": "code",
   "execution_count": 196,
   "metadata": {},
   "outputs": [
    {
     "data": {
      "text/plain": [
       "<matplotlib.axes._subplots.AxesSubplot at 0x2340498c400>"
      ]
     },
     "execution_count": 196,
     "metadata": {},
     "output_type": "execute_result"
    },
    {
     "data": {
      "image/png": "[encoded data removed]",
      "text/plain": [
       "<Figure size 432x288 with 2 Axes>"
      ]
     },
     "metadata": {
      "needs_background": "light"
     },
     "output_type": "display_data"
    }
   ],
   "source": [
    "sns.heatmap(pd.crosstab(stud['romantic'], stud['age']), annot = True, cmap = \"YlGnBu\")"
   ]
  },
  {
   "cell_type": "code",
   "execution_count": 197,
   "metadata": {},
   "outputs": [
    {
     "name": "stdout",
     "output_type": "stream",
     "text": [
      "Мода:  0    15\n",
      "dtype: int64\n",
      "Медиана:  16.0\n",
      "Среднее 16.322580645161292\n",
      "Пропущеных значений в столбце: 0\n"
     ]
    },
    {
     "data": {
      "image/png": "[encoded data removed]",
      "text/plain": [
       "<Figure size 432x288 with 1 Axes>"
      ]
     },
     "metadata": {
      "needs_background": "light"
     },
     "output_type": "display_data"
    }
   ],
   "source": [
    "col_info(stud[stud.romantic.isnull()], 'age')"
   ]
  },
  {
   "cell_type": "code",
   "execution_count": 198,
   "metadata": {},
   "outputs": [],
   "source": [
    "stud.loc[(stud['romantic'].isnull())&(stud['age']== 15), 'romantic'] = 'no'\n",
    "stud.loc[(stud['romantic'].isnull())&(stud['age']== 16), 'romantic'] = 'no'\n",
    "stud.loc[(stud['romantic'].isnull())&(stud['age']== 17), 'romantic'] = random.choices(['no', 'yes'], weights=[58, 34])\n",
    "stud.loc[(stud['romantic'].isnull())&(stud['age']== 18), 'romantic'] = random.choice(['no', 'yes'])\n",
    "stud.loc[(stud['romantic'].isnull())&(stud['age']== 19), 'romantic'] = random.choice(['no', 'yes'])"
   ]
  },
  {
   "cell_type": "code",
   "execution_count": 199,
   "metadata": {},
   "outputs": [
    {
     "name": "stdout",
     "output_type": "stream",
     "text": [
      "no     270\n",
      "yes    125\n",
      "Name: romantic, dtype: int64\n",
      "Уникальных значений: 2\n",
      "Пропущеных значений в столбце: 0\n"
     ]
    },
    {
     "data": {
      "image/png": "[encoded data removed]",
      "text/plain": [
       "<Figure size 432x288 with 1 Axes>"
      ]
     },
     "metadata": {
      "needs_background": "light"
     },
     "output_type": "display_data"
    }
   ],
   "source": [
    "col_info(stud, 'romantic')"
   ]
  },
  {
   "cell_type": "markdown",
   "metadata": {},
   "source": [
    "### 25. Рассмотрим атрибут famrel:"
   ]
  },
  {
   "cell_type": "code",
   "execution_count": 200,
   "metadata": {},
   "outputs": [
    {
     "name": "stdout",
     "output_type": "stream",
     "text": [
      "Мода:  0    4.0\n",
      "dtype: float64\n",
      "Медиана:  4.0\n",
      "Среднее 3.9375\n",
      "Пропущеных значений в столбце: 27\n"
     ]
    },
    {
     "data": {
      "image/png": "[encoded data removed]",
      "text/plain": [
       "<Figure size 432x288 with 1 Axes>"
      ]
     },
     "metadata": {
      "needs_background": "light"
     },
     "output_type": "display_data"
    }
   ],
   "source": [
    "col_info(stud, 'famrel')"
   ]
  },
  {
   "cell_type": "markdown",
   "metadata": {},
   "source": [
    "Значение - 1 является ошибкой, поменяем его на 1.0"
   ]
  },
  {
   "cell_type": "code",
   "execution_count": 201,
   "metadata": {},
   "outputs": [],
   "source": [
    "stud.famrel = stud.famrel.apply(lambda x: None if pd.isnull(x) else abs(x))"
   ]
  },
  {
   "cell_type": "markdown",
   "metadata": {},
   "source": [
    "Возьмем 3 самых больших значения и сделаем случайную выборку с весами "
   ]
  },
  {
   "cell_type": "code",
   "execution_count": 202,
   "metadata": {},
   "outputs": [],
   "source": [
    "stud.loc[stud['famrel'].isnull(), 'famrel'] = random.choices([4.0, 5.0, 3.0], weights=[182, 99, 62])"
   ]
  },
  {
   "cell_type": "code",
   "execution_count": 203,
   "metadata": {},
   "outputs": [
    {
     "name": "stdout",
     "output_type": "stream",
     "text": [
      "Мода:  0    4.0\n",
      "dtype: float64\n",
      "Медиана:  4.0\n",
      "Среднее 3.8784810126582276\n",
      "Пропущеных значений в столбце: 0\n"
     ]
    },
    {
     "data": {
      "image/png": "[encoded data removed]",
      "text/plain": [
       "<Figure size 432x288 with 1 Axes>"
      ]
     },
     "metadata": {
      "needs_background": "light"
     },
     "output_type": "display_data"
    }
   ],
   "source": [
    "col_info(stud, 'famrel')"
   ]
  },
  {
   "cell_type": "markdown",
   "metadata": {},
   "source": [
    "### 26. Рассмотрим атрибут freetime:"
   ]
  },
  {
   "cell_type": "code",
   "execution_count": 204,
   "metadata": {},
   "outputs": [
    {
     "name": "stdout",
     "output_type": "stream",
     "text": [
      "Мода:  0    3.0\n",
      "dtype: float64\n",
      "Медиана:  3.0\n",
      "Среднее 3.2317708333333335\n",
      "Пропущеных значений в столбце: 11\n"
     ]
    },
    {
     "data": {
      "image/png": "[encoded data removed]",
      "text/plain": [
       "<Figure size 432x288 with 1 Axes>"
      ]
     },
     "metadata": {
      "needs_background": "light"
     },
     "output_type": "display_data"
    }
   ],
   "source": [
    "col_info(stud, 'freetime')"
   ]
  },
  {
   "cell_type": "code",
   "execution_count": 205,
   "metadata": {},
   "outputs": [
    {
     "data": {
      "text/plain": [
       "<matplotlib.axes._subplots.AxesSubplot at 0x2340e8f61f0>"
      ]
     },
     "execution_count": 205,
     "metadata": {},
     "output_type": "execute_result"
    },
    {
     "data": {
      "image/png": "[encoded data removed]",
      "text/plain": [
       "<Figure size 432x288 with 2 Axes>"
      ]
     },
     "metadata": {
      "needs_background": "light"
     },
     "output_type": "display_data"
    }
   ],
   "source": [
    "sns.heatmap(pd.crosstab(stud['freetime'], stud['sex']), annot = True, cmap = \"YlGnBu\")"
   ]
  },
  {
   "cell_type": "code",
   "execution_count": 206,
   "metadata": {},
   "outputs": [
    {
     "name": "stdout",
     "output_type": "stream",
     "text": [
      "Мода:  0    3.0\n",
      "dtype: float64\n",
      "Медиана:  3.0\n",
      "Среднее 3.2253164556962024\n",
      "Пропущеных значений в столбце: 0\n"
     ]
    },
    {
     "data": {
      "image/png": "[encoded data removed]",
      "text/plain": [
       "<Figure size 432x288 with 1 Axes>"
      ]
     },
     "metadata": {
      "needs_background": "light"
     },
     "output_type": "display_data"
    }
   ],
   "source": [
    "stud.loc[(stud['freetime'].isnull())&(stud['sex']=='F'), 'freetime'] = 3\n",
    "stud.loc[(stud['freetime'].isnull())&(stud['sex']=='M'), 'freetime'] = random.choice([4, 3])\n",
    "col_info(stud, 'freetime')"
   ]
  },
  {
   "cell_type": "markdown",
   "metadata": {},
   "source": [
    "### 27. Рассмотрим атрибут goout:"
   ]
  },
  {
   "cell_type": "code",
   "execution_count": 207,
   "metadata": {},
   "outputs": [
    {
     "name": "stdout",
     "output_type": "stream",
     "text": [
      "Мода:  0    3.0\n",
      "dtype: float64\n",
      "Медиана:  3.0\n",
      "Среднее 3.1059431524547803\n",
      "Пропущеных значений в столбце: 8\n"
     ]
    },
    {
     "data": {
      "image/png": "[encoded data removed]",
      "text/plain": [
       "<Figure size 432x288 with 1 Axes>"
      ]
     },
     "metadata": {
      "needs_background": "light"
     },
     "output_type": "display_data"
    }
   ],
   "source": [
    "col_info(stud, 'goout')"
   ]
  },
  {
   "cell_type": "code",
   "execution_count": 208,
   "metadata": {},
   "outputs": [
    {
     "data": {
      "text/plain": [
       "<matplotlib.axes._subplots.AxesSubplot at 0x2340d06ed90>"
      ]
     },
     "execution_count": 208,
     "metadata": {},
     "output_type": "execute_result"
    },
    {
     "data": {
      "image/png": "[encoded data removed]",
      "text/plain": [
       "<Figure size 432x288 with 2 Axes>"
      ]
     },
     "metadata": {
      "needs_background": "light"
     },
     "output_type": "display_data"
    }
   ],
   "source": [
    "sns.heatmap(pd.crosstab(stud['goout'], stud['studytime']), annot = True, cmap = \"YlGnBu\")"
   ]
  },
  {
   "cell_type": "code",
   "execution_count": 209,
   "metadata": {},
   "outputs": [
    {
     "name": "stdout",
     "output_type": "stream",
     "text": [
      "Мода:  0    2.0\n",
      "dtype: float64\n",
      "Медиана:  2.0\n",
      "Среднее 2.25\n",
      "Пропущеных значений в столбце: 0\n"
     ]
    },
    {
     "data": {
      "image/png": "[encoded data removed]",
      "text/plain": [
       "<Figure size 432x288 with 1 Axes>"
      ]
     },
     "metadata": {
      "needs_background": "light"
     },
     "output_type": "display_data"
    }
   ],
   "source": [
    "col_info(stud[stud.goout.isnull()], 'studytime')"
   ]
  },
  {
   "cell_type": "code",
   "execution_count": 210,
   "metadata": {},
   "outputs": [
    {
     "name": "stdout",
     "output_type": "stream",
     "text": [
      "Мода:  0    3.0\n",
      "dtype: float64\n",
      "Медиана:  3.0\n",
      "Среднее 3.118987341772152\n",
      "Пропущеных значений в столбце: 0\n"
     ]
    },
    {
     "data": {
      "image/png": "[encoded data removed]",
      "text/plain": [
       "<Figure size 432x288 with 1 Axes>"
      ]
     },
     "metadata": {
      "needs_background": "light"
     },
     "output_type": "display_data"
    }
   ],
   "source": [
    "stud.loc[(stud['goout'].isnull())&(stud['studytime']== 2), 'goout'] = random.choices([2, 3, 4], weights=[46, 58, 53])\n",
    "stud.loc[(stud['goout'].isnull())&(stud['studytime']== 3), 'goout'] = random.choice([2, 3])\n",
    "col_info(stud, 'goout')"
   ]
  },
  {
   "cell_type": "markdown",
   "metadata": {},
   "source": [
    "### 28. Рассмотрим атрибут health:"
   ]
  },
  {
   "cell_type": "code",
   "execution_count": 211,
   "metadata": {},
   "outputs": [
    {
     "name": "stdout",
     "output_type": "stream",
     "text": [
      "Мода:  0    5.0\n",
      "dtype: float64\n",
      "Медиана:  4.0\n",
      "Среднее 3.531578947368421\n",
      "Пропущеных значений в столбце: 15\n"
     ]
    },
    {
     "data": {
      "image/png": "[encoded data removed]",
      "text/plain": [
       "<Figure size 432x288 with 1 Axes>"
      ]
     },
     "metadata": {
      "needs_background": "light"
     },
     "output_type": "display_data"
    }
   ],
   "source": [
    "col_info(stud, 'health')"
   ]
  },
  {
   "cell_type": "code",
   "execution_count": 212,
   "metadata": {},
   "outputs": [
    {
     "data": {
      "text/plain": [
       "<matplotlib.axes._subplots.AxesSubplot at 0x2340d06e280>"
      ]
     },
     "execution_count": 212,
     "metadata": {},
     "output_type": "execute_result"
    },
    {
     "data": {
      "image/png": "[encoded data removed]",
      "text/plain": [
       "<Figure size 432x288 with 2 Axes>"
      ]
     },
     "metadata": {
      "needs_background": "light"
     },
     "output_type": "display_data"
    }
   ],
   "source": [
    "sns.heatmap(pd.crosstab(stud['health'], stud['famrel']), annot = True, cmap = \"YlGnBu\")"
   ]
  },
  {
   "cell_type": "code",
   "execution_count": 213,
   "metadata": {},
   "outputs": [
    {
     "name": "stdout",
     "output_type": "stream",
     "text": [
      "Мода:  0    4.0\n",
      "dtype: float64\n",
      "Медиана:  4.0\n",
      "Среднее 4.133333333333334\n",
      "Пропущеных значений в столбце: 0\n"
     ]
    },
    {
     "data": {
      "image/png": "[encoded data removed]",
      "text/plain": [
       "<Figure size 432x288 with 1 Axes>"
      ]
     },
     "metadata": {
      "needs_background": "light"
     },
     "output_type": "display_data"
    }
   ],
   "source": [
    "col_info(stud[stud.health.isnull()], 'famrel')"
   ]
  },
  {
   "cell_type": "code",
   "execution_count": 214,
   "metadata": {},
   "outputs": [
    {
     "name": "stdout",
     "output_type": "stream",
     "text": [
      "Мода:  0    5.0\n",
      "dtype: float64\n",
      "Медиана:  4.0\n",
      "Среднее 3.5873417721518988\n",
      "Пропущеных значений в столбце: 0\n"
     ]
    },
    {
     "data": {
      "image/png": "[encoded data removed]",
      "text/plain": [
       "<Figure size 432x288 with 1 Axes>"
      ]
     },
     "metadata": {
      "needs_background": "light"
     },
     "output_type": "display_data"
    }
   ],
   "source": [
    "stud.loc[(stud['health'].isnull())&(stud['famrel']== 4), 'health'] = 5\n",
    "stud.loc[(stud['health'].isnull())&(stud['famrel']== 5), 'health'] = random.choices([5, 4, 3], weights=[34, 19, 18])\n",
    "stud.loc[(stud['health'].isnull())&(stud['famrel']== 3), 'health'] = random.choice([3, 5])\n",
    "col_info(stud, 'health')"
   ]
  },
  {
   "cell_type": "markdown",
   "metadata": {},
   "source": [
    "### 29. Рассмотрим атрибут absences:"
   ]
  },
  {
   "cell_type": "code",
   "execution_count": 215,
   "metadata": {},
   "outputs": [
    {
     "name": "stdout",
     "output_type": "stream",
     "text": [
      "Мода:  0    0.0\n",
      "dtype: float64\n",
      "Медиана:  4.0\n",
      "Среднее 7.2793733681462145\n",
      "Пропущеных значений в столбце: 12\n"
     ]
    },
    {
     "data": {
      "image/png": "[encoded data removed]",
      "text/plain": [
       "<Figure size 432x288 with 1 Axes>"
      ]
     },
     "metadata": {
      "needs_background": "light"
     },
     "output_type": "display_data"
    }
   ],
   "source": [
    "col_info(stud, 'absences')"
   ]
  },
  {
   "cell_type": "code",
   "execution_count": 216,
   "metadata": {},
   "outputs": [
    {
     "name": "stdout",
     "output_type": "stream",
     "text": [
      "Мода:  0    0.0\n",
      "dtype: float64\n",
      "Медиана:  4.0\n",
      "Среднее 7.058227848101266\n",
      "Пропущеных значений в столбце: 0\n"
     ]
    },
    {
     "data": {
      "image/png": "[encoded data removed]",
      "text/plain": [
       "<Figure size 432x288 with 1 Axes>"
      ]
     },
     "metadata": {
      "needs_background": "light"
     },
     "output_type": "display_data"
    }
   ],
   "source": [
    "stud.absences = stud.absences.apply(lambda x : 0 if pd.isnull(x) else x)\n",
    "col_info(stud, 'absences')"
   ]
  },
  {
   "cell_type": "markdown",
   "metadata": {},
   "source": [
    "### 30. Рассмотрим атрибут score:"
   ]
  },
  {
   "cell_type": "code",
   "execution_count": 217,
   "metadata": {
    "scrolled": true
   },
   "outputs": [
    {
     "name": "stdout",
     "output_type": "stream",
     "text": [
      "Мода:  0    50.0\n",
      "dtype: float64\n",
      "Медиана:  55.0\n",
      "Среднее 52.26221079691517\n",
      "Пропущеных значений в столбце: 6\n"
     ]
    },
    {
     "data": {
      "image/png": "[encoded data removed]",
      "text/plain": [
       "<Figure size 432x288 with 1 Axes>"
      ]
     },
     "metadata": {
      "needs_background": "light"
     },
     "output_type": "display_data"
    }
   ],
   "source": [
    "col_info(stud, 'score')"
   ]
  },
  {
   "cell_type": "markdown",
   "metadata": {},
   "source": [
    "Удалим пустые значения, т.к. мы не может достоверно их заполнить"
   ]
  },
  {
   "cell_type": "code",
   "execution_count": 218,
   "metadata": {},
   "outputs": [],
   "source": [
    "stud = stud.drop(stud[stud.score.isnull()].index)"
   ]
  },
  {
   "cell_type": "markdown",
   "metadata": {},
   "source": [
    "На графике видно что значения 0 - это те, кто не пришел на экзамен. Потенциальные выбросы"
   ]
  },
  {
   "cell_type": "code",
   "execution_count": 219,
   "metadata": {},
   "outputs": [
    {
     "name": "stdout",
     "output_type": "stream",
     "text": [
      "Мода:  0    50.0\n",
      "dtype: float64\n",
      "Медиана:  55.0\n",
      "Среднее 57.75568181818182\n",
      "Пропущеных значений в столбце: 0\n"
     ]
    },
    {
     "data": {
      "image/png": "[encoded data removed]",
      "text/plain": [
       "<Figure size 432x288 with 1 Axes>"
      ]
     },
     "metadata": {
      "needs_background": "light"
     },
     "output_type": "display_data"
    }
   ],
   "source": [
    "col_info(stud[stud['score'] > 0], 'score')"
   ]
  },
  {
   "cell_type": "code",
   "execution_count": 220,
   "metadata": {},
   "outputs": [
    {
     "name": "stdout",
     "output_type": "stream",
     "text": [
      "<class 'pandas.core.frame.DataFrame'>\n",
      "Int64Index: 389 entries, 0 to 394\n",
      "Data columns (total 29 columns):\n",
      " #   Column      Non-Null Count  Dtype  \n",
      "---  ------      --------------  -----  \n",
      " 0   school      389 non-null    object \n",
      " 1   sex         389 non-null    object \n",
      " 2   age         389 non-null    int64  \n",
      " 3   address     389 non-null    object \n",
      " 4   famsize     389 non-null    object \n",
      " 5   Pstatus     389 non-null    object \n",
      " 6   Medu        389 non-null    float64\n",
      " 7   Fedu        389 non-null    float64\n",
      " 8   Mjob        389 non-null    object \n",
      " 9   Fjob        389 non-null    object \n",
      " 10  reason      389 non-null    object \n",
      " 11  guardian    389 non-null    object \n",
      " 12  traveltime  389 non-null    float64\n",
      " 13  studytime   389 non-null    float64\n",
      " 14  failures    389 non-null    float64\n",
      " 15  schoolsup   389 non-null    object \n",
      " 16  famsup      389 non-null    object \n",
      " 17  paid        389 non-null    object \n",
      " 18  activities  389 non-null    object \n",
      " 19  nursery     389 non-null    object \n",
      " 20  higher      389 non-null    object \n",
      " 21  internet    389 non-null    object \n",
      " 22  romantic    389 non-null    object \n",
      " 23  famrel      389 non-null    float64\n",
      " 24  freetime    389 non-null    float64\n",
      " 25  goout       389 non-null    float64\n",
      " 26  health      389 non-null    float64\n",
      " 27  absences    389 non-null    float64\n",
      " 28  score       389 non-null    float64\n",
      "dtypes: float64(11), int64(1), object(17)\n",
      "memory usage: 91.2+ KB\n"
     ]
    }
   ],
   "source": [
    "stud.info()"
   ]
  },
  {
   "cell_type": "markdown",
   "metadata": {},
   "source": [
    "В выборке осталось 389 записей. Пробелы отсутствуют."
   ]
  },
  {
   "cell_type": "markdown",
   "metadata": {},
   "source": [
    "# Корреляционный  анализ данных:"
   ]
  },
  {
   "cell_type": "code",
   "execution_count": 221,
   "metadata": {},
   "outputs": [
    {
     "data": {
      "text/plain": [
       "<seaborn.axisgrid.PairGrid at 0x2340fd735b0>"
      ]
     },
     "execution_count": 221,
     "metadata": {},
     "output_type": "execute_result"
    },
    {
     "data": {
      "image/png": "[encoded data removed]",
      "text/plain": [
       "<Figure size 1980x180 with 11 Axes>"
      ]
     },
     "metadata": {
      "needs_background": "light"
     },
     "output_type": "display_data"
    }
   ],
   "source": [
    "sns.pairplot(\n",
    "             stud, \n",
    "             kind = 'reg',\n",
    "             x_vars = ['age', 'Medu', 'Fedu', 'traveltime', 'studytime', 'failures', 'famrel', 'freetime', 'goout', 'health', 'absences'],\n",
    "             y_vars = ['score']\n",
    ")"
   ]
  },
  {
   "cell_type": "markdown",
   "metadata": {},
   "source": [
    "Из графиков видно:\n",
    "1. Заметно ухудшение оценок с возрастом.\n",
    "2. Заметен небольшой тренд на улучшение оценок с высоким образованием родителей.\n",
    "3. Время на учёбу помимо школы так же лучше сказывается на оценку\n",
    "4. Количество внеучебных неудач влияет на низкую оценку\n",
    "5. Небольшое влияние на оценку оказывают плохие взаимоотношения в семье\n",
    "6. Длительные прогулки с друзьями так же оказывают небольшое влияние на снижение оценки"
   ]
  },
  {
   "cell_type": "code",
   "execution_count": 222,
   "metadata": {},
   "outputs": [
    {
     "data": {
      "image/png": "[encoded data removed]",
      "text/plain": [
       "<Figure size 1008x288 with 1 Axes>"
      ]
     },
     "metadata": {
      "needs_background": "light"
     },
     "output_type": "display_data"
    },
    {
     "data": {
      "image/png": "[encoded data removed]",
      "text/plain": [
       "<Figure size 1008x288 with 1 Axes>"
      ]
     },
     "metadata": {
      "needs_background": "light"
     },
     "output_type": "display_data"
    },
    {
     "data": {
      "image/png": "[encoded data removed]",
      "text/plain": [
       "<Figure size 1008x288 with 1 Axes>"
      ]
     },
     "metadata": {
      "needs_background": "light"
     },
     "output_type": "display_data"
    },
    {
     "data": {
      "image/png": "[encoded data removed]",
      "text/plain": [
       "<Figure size 1008x288 with 1 Axes>"
      ]
     },
     "metadata": {
      "needs_background": "light"
     },
     "output_type": "display_data"
    },
    {
     "data": {
      "image/png": "[encoded data removed]",
      "text/plain": [
       "<Figure size 1008x288 with 1 Axes>"
      ]
     },
     "metadata": {
      "needs_background": "light"
     },
     "output_type": "display_data"
    },
    {
     "data": {
      "image/png": "[encoded data removed]",
      "text/plain": [
       "<Figure size 1008x288 with 1 Axes>"
      ]
     },
     "metadata": {
      "needs_background": "light"
     },
     "output_type": "display_data"
    },
    {
     "data": {
      "image/png": "[encoded data removed]",
      "text/plain": [
       "<Figure size 1008x288 with 1 Axes>"
      ]
     },
     "metadata": {
      "needs_background": "light"
     },
     "output_type": "display_data"
    },
    {
     "data": {
      "image/png": "[encoded data removed]",
      "text/plain": [
       "<Figure size 1008x288 with 1 Axes>"
      ]
     },
     "metadata": {
      "needs_background": "light"
     },
     "output_type": "display_data"
    },
    {
     "data": {
      "image/png": "[encoded data removed]",
      "text/plain": [
       "<Figure size 1008x288 with 1 Axes>"
      ]
     },
     "metadata": {
      "needs_background": "light"
     },
     "output_type": "display_data"
    },
    {
     "data": {
      "image/png": "[encoded data removed]",
      "text/plain": [
       "<Figure size 1008x288 with 1 Axes>"
      ]
     },
     "metadata": {
      "needs_background": "light"
     },
     "output_type": "display_data"
    },
    {
     "data": {
      "image/png": "[encoded data removed]",
      "text/plain": [
       "<Figure size 1008x288 with 1 Axes>"
      ]
     },
     "metadata": {
      "needs_background": "light"
     },
     "output_type": "display_data"
    },
    {
     "data": {
      "image/png": "[encoded data removed]",
      "text/plain": [
       "<Figure size 1008x288 with 1 Axes>"
      ]
     },
     "metadata": {
      "needs_background": "light"
     },
     "output_type": "display_data"
    },
    {
     "data": {
      "image/png": "[encoded data removed]",
      "text/plain": [
       "<Figure size 1008x288 with 1 Axes>"
      ]
     },
     "metadata": {
      "needs_background": "light"
     },
     "output_type": "display_data"
    },
    {
     "data": {
      "image/png": "[encoded data removed]",
      "text/plain": [
       "<Figure size 1008x288 with 1 Axes>"
      ]
     },
     "metadata": {
      "needs_background": "light"
     },
     "output_type": "display_data"
    },
    {
     "data": {
      "image/png": "[encoded data removed]",
      "text/plain": [
       "<Figure size 1008x288 with 1 Axes>"
      ]
     },
     "metadata": {
      "needs_background": "light"
     },
     "output_type": "display_data"
    },
    {
     "data": {
      "image/png": "[encoded data removed]",
      "text/plain": [
       "<Figure size 1008x288 with 1 Axes>"
      ]
     },
     "metadata": {
      "needs_background": "light"
     },
     "output_type": "display_data"
    },
    {
     "data": {
      "image/png": "[encoded data removed]",
      "text/plain": [
       "<Figure size 1008x288 with 1 Axes>"
      ]
     },
     "metadata": {
      "needs_background": "light"
     },
     "output_type": "display_data"
    }
   ],
   "source": [
    "for col in ['school', 'sex', 'address', 'famsize', 'Pstatus', 'Mjob', 'Fjob', 'reason', 'guardian', 'schoolsup', 'famsup', 'paid', 'activities', 'nursery', 'higher', 'internet', 'romantic']:\n",
    "    get_boxplot(col)"
   ]
  },
  {
   "cell_type": "markdown",
   "metadata": {},
   "source": [
    "# Тест Стьюдента:"
   ]
  },
  {
   "cell_type": "code",
   "execution_count": 223,
   "metadata": {},
   "outputs": [
    {
     "name": "stdout",
     "output_type": "stream",
     "text": [
      "Найдены статистически значимые различия для колонки address\n",
      "Найдены статистически значимые различия для колонки Mjob\n",
      "Найдены статистически значимые различия для колонки paid\n",
      "Найдены статистически значимые различия для колонки higher\n",
      "Найдены статистически значимые различия для колонки romantic\n"
     ]
    }
   ],
   "source": [
    "for col in ['school', 'sex', 'address', 'famsize', 'Pstatus', 'Mjob', 'Fjob', 'reason', 'guardian', 'schoolsup', 'famsup', 'paid', 'activities', 'nursery', 'higher', 'internet', 'romantic']:\n",
    "    get_stat_dif(col)"
   ]
  },
  {
   "cell_type": "markdown",
   "metadata": {},
   "source": [
    "Как мы видим, серьёзно отличаются следующие параметры: address, Mjob, paid, higher, romantic"
   ]
  },
  {
   "cell_type": "markdown",
   "metadata": {},
   "source": [
    "# Итог:"
   ]
  },
  {
   "cell_type": "markdown",
   "metadata": {},
   "source": [
    "Важные переменные, которые, возможно, оказывают влияние на оценку, это:\n",
    "- age\n",
    "- Medu\n",
    "- Fedu\n",
    "- studytime\n",
    "- failures\n",
    "- famrel\n",
    "- goout\n",
    "- address\n",
    "- Mjob\n",
    "- paid\n",
    "- higher\n",
    "- romantic"
   ]
  },
  {
   "cell_type": "code",
   "execution_count": 224,
   "metadata": {},
   "outputs": [
    {
     "data": {
      "text/html": [
       "<div>\n",
       "<style scoped>\n",
       "    .dataframe tbody tr th:only-of-type {\n",
       "        vertical-align: middle;\n",
       "    }\n",
       "\n",
       "    .dataframe tbody tr th {\n",
       "        vertical-align: top;\n",
       "    }\n",
       "\n",
       "    .dataframe thead th {\n",
       "        text-align: right;\n",
       "    }\n",
       "</style>\n",
       "<table border=\"1\" class=\"dataframe\">\n",
       "  <thead>\n",
       "    <tr style=\"text-align: right;\">\n",
       "      <th></th>\n",
       "      <th>age</th>\n",
       "      <th>Medu</th>\n",
       "      <th>Fedu</th>\n",
       "      <th>studytime</th>\n",
       "      <th>failures</th>\n",
       "      <th>famrel</th>\n",
       "      <th>goout</th>\n",
       "      <th>address</th>\n",
       "      <th>Mjob</th>\n",
       "      <th>paid</th>\n",
       "      <th>higher</th>\n",
       "      <th>romantic</th>\n",
       "    </tr>\n",
       "  </thead>\n",
       "  <tbody>\n",
       "    <tr>\n",
       "      <th>0</th>\n",
       "      <td>18</td>\n",
       "      <td>4.0</td>\n",
       "      <td>4.0</td>\n",
       "      <td>2.0</td>\n",
       "      <td>0.0</td>\n",
       "      <td>4.0</td>\n",
       "      <td>4.0</td>\n",
       "      <td>U</td>\n",
       "      <td>at_home</td>\n",
       "      <td>no</td>\n",
       "      <td>yes</td>\n",
       "      <td>no</td>\n",
       "    </tr>\n",
       "    <tr>\n",
       "      <th>1</th>\n",
       "      <td>17</td>\n",
       "      <td>1.0</td>\n",
       "      <td>1.0</td>\n",
       "      <td>2.0</td>\n",
       "      <td>0.0</td>\n",
       "      <td>5.0</td>\n",
       "      <td>3.0</td>\n",
       "      <td>U</td>\n",
       "      <td>at_home</td>\n",
       "      <td>no</td>\n",
       "      <td>yes</td>\n",
       "      <td>no</td>\n",
       "    </tr>\n",
       "    <tr>\n",
       "      <th>2</th>\n",
       "      <td>15</td>\n",
       "      <td>1.0</td>\n",
       "      <td>1.0</td>\n",
       "      <td>2.0</td>\n",
       "      <td>3.0</td>\n",
       "      <td>4.0</td>\n",
       "      <td>2.0</td>\n",
       "      <td>U</td>\n",
       "      <td>at_home</td>\n",
       "      <td>no</td>\n",
       "      <td>yes</td>\n",
       "      <td>no</td>\n",
       "    </tr>\n",
       "    <tr>\n",
       "      <th>3</th>\n",
       "      <td>15</td>\n",
       "      <td>4.0</td>\n",
       "      <td>2.0</td>\n",
       "      <td>3.0</td>\n",
       "      <td>0.0</td>\n",
       "      <td>3.0</td>\n",
       "      <td>2.0</td>\n",
       "      <td>U</td>\n",
       "      <td>health</td>\n",
       "      <td>yes</td>\n",
       "      <td>yes</td>\n",
       "      <td>yes</td>\n",
       "    </tr>\n",
       "    <tr>\n",
       "      <th>4</th>\n",
       "      <td>16</td>\n",
       "      <td>3.0</td>\n",
       "      <td>3.0</td>\n",
       "      <td>2.0</td>\n",
       "      <td>0.0</td>\n",
       "      <td>4.0</td>\n",
       "      <td>2.0</td>\n",
       "      <td>U</td>\n",
       "      <td>other</td>\n",
       "      <td>yes</td>\n",
       "      <td>yes</td>\n",
       "      <td>no</td>\n",
       "    </tr>\n",
       "    <tr>\n",
       "      <th>5</th>\n",
       "      <td>16</td>\n",
       "      <td>4.0</td>\n",
       "      <td>3.0</td>\n",
       "      <td>2.0</td>\n",
       "      <td>0.0</td>\n",
       "      <td>5.0</td>\n",
       "      <td>2.0</td>\n",
       "      <td>U</td>\n",
       "      <td>services</td>\n",
       "      <td>yes</td>\n",
       "      <td>yes</td>\n",
       "      <td>no</td>\n",
       "    </tr>\n",
       "    <tr>\n",
       "      <th>6</th>\n",
       "      <td>16</td>\n",
       "      <td>2.0</td>\n",
       "      <td>2.0</td>\n",
       "      <td>2.0</td>\n",
       "      <td>0.0</td>\n",
       "      <td>4.0</td>\n",
       "      <td>4.0</td>\n",
       "      <td>U</td>\n",
       "      <td>other</td>\n",
       "      <td>no</td>\n",
       "      <td>yes</td>\n",
       "      <td>no</td>\n",
       "    </tr>\n",
       "    <tr>\n",
       "      <th>7</th>\n",
       "      <td>17</td>\n",
       "      <td>4.0</td>\n",
       "      <td>4.0</td>\n",
       "      <td>2.0</td>\n",
       "      <td>0.0</td>\n",
       "      <td>4.0</td>\n",
       "      <td>4.0</td>\n",
       "      <td>U</td>\n",
       "      <td>other</td>\n",
       "      <td>no</td>\n",
       "      <td>yes</td>\n",
       "      <td>no</td>\n",
       "    </tr>\n",
       "    <tr>\n",
       "      <th>8</th>\n",
       "      <td>15</td>\n",
       "      <td>3.0</td>\n",
       "      <td>2.0</td>\n",
       "      <td>2.0</td>\n",
       "      <td>0.0</td>\n",
       "      <td>3.0</td>\n",
       "      <td>2.0</td>\n",
       "      <td>U</td>\n",
       "      <td>services</td>\n",
       "      <td>yes</td>\n",
       "      <td>yes</td>\n",
       "      <td>no</td>\n",
       "    </tr>\n",
       "    <tr>\n",
       "      <th>9</th>\n",
       "      <td>15</td>\n",
       "      <td>3.0</td>\n",
       "      <td>4.0</td>\n",
       "      <td>2.0</td>\n",
       "      <td>0.0</td>\n",
       "      <td>5.0</td>\n",
       "      <td>1.0</td>\n",
       "      <td>U</td>\n",
       "      <td>other</td>\n",
       "      <td>yes</td>\n",
       "      <td>yes</td>\n",
       "      <td>no</td>\n",
       "    </tr>\n",
       "  </tbody>\n",
       "</table>\n",
       "</div>"
      ],
      "text/plain": [
       "   age  Medu  Fedu  studytime  failures  famrel  goout address      Mjob paid  \\\n",
       "0   18   4.0   4.0        2.0       0.0     4.0    4.0       U   at_home   no   \n",
       "1   17   1.0   1.0        2.0       0.0     5.0    3.0       U   at_home   no   \n",
       "2   15   1.0   1.0        2.0       3.0     4.0    2.0       U   at_home   no   \n",
       "3   15   4.0   2.0        3.0       0.0     3.0    2.0       U    health  yes   \n",
       "4   16   3.0   3.0        2.0       0.0     4.0    2.0       U     other  yes   \n",
       "5   16   4.0   3.0        2.0       0.0     5.0    2.0       U  services  yes   \n",
       "6   16   2.0   2.0        2.0       0.0     4.0    4.0       U     other   no   \n",
       "7   17   4.0   4.0        2.0       0.0     4.0    4.0       U     other   no   \n",
       "8   15   3.0   2.0        2.0       0.0     3.0    2.0       U  services  yes   \n",
       "9   15   3.0   4.0        2.0       0.0     5.0    1.0       U     other  yes   \n",
       "\n",
       "  higher romantic  \n",
       "0    yes       no  \n",
       "1    yes       no  \n",
       "2    yes       no  \n",
       "3    yes      yes  \n",
       "4    yes       no  \n",
       "5    yes       no  \n",
       "6    yes       no  \n",
       "7    yes       no  \n",
       "8    yes       no  \n",
       "9    yes       no  "
      ]
     },
     "execution_count": 224,
     "metadata": {},
     "output_type": "execute_result"
    }
   ],
   "source": [
    "stud_for_model = stud.loc[:, ['age', 'Medu', 'Fedu', 'studytime', 'failures', 'famrel', 'goout', 'address', 'Mjob', 'paid', 'higher', 'romantic']]\n",
    "stud_for_model.head(10)"
   ]
  }
 ],
 "metadata": {
  "kernelspec": {
   "display_name": "Python 3",
   "language": "python",
   "name": "python3"
  },
  "language_info": {
   "codemirror_mode": {
    "name": "ipython",
    "version": 3
   },
   "file_extension": ".py",
   "mimetype": "text/x-python",
   "name": "python",
   "nbconvert_exporter": "python",
   "pygments_lexer": "ipython3",
   "version": "3.8.3"
  }
 },
 "nbformat": 4,
 "nbformat_minor": 4
}
